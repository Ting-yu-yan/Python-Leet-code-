{
 "cells": [
  {
   "cell_type": "markdown",
   "metadata": {},
   "source": [
    "# Python Leetcode challenge"
   ]
  },
  {
   "attachments": {},
   "cell_type": "markdown",
   "metadata": {},
   "source": [
    "## 26. Remove Duplicates from Sorted Array (Easy) 20230317\n",
    "\n",
    "Given an integer array nums sorted in non-decreasing order, remove the duplicates in-place such that each unique element appears only once. The relative order of the elements should be kept the same.\n",
    "\n",
    "Since it is impossible to change the length of the array in some languages, you must instead have the result be placed in the first part of the array nums. More formally, if there are k elements after removing the duplicates, then the first k elements of nums should hold the final result. It does not matter what you leave beyond the first k elements.\n",
    "\n",
    "Return k after placing the final result in the first k slots of nums.\n",
    "\n",
    "Do not allocate extra space for another array. You must do this by modifying the input array in-place with O(1) extra memory.\n",
    "\n",
    "Custom Judge:\n",
    "\n",
    "The judge will test your solution with the following code:\n",
    "\n",
    "int[] nums = [...]; // Input array\n",
    "int[] expectedNums = [...]; // The expected answer with correct length\n",
    "\n",
    "int k = removeDuplicates(nums); // Calls your implementation\n",
    "\n",
    "assert k == expectedNums.length;\n",
    "for (int i = 0; i < k; i++) {\n",
    "    assert nums[i] == expectedNums[i];\n",
    "}\n",
    "If all assertions pass, then your solution will be accepted."
   ]
  },
  {
   "cell_type": "markdown",
   "metadata": {},
   "source": [
    "### Method 1 (76 ms wins 98.32%, 15.5 MB wins 50.85%)"
   ]
  },
  {
   "cell_type": "code",
   "execution_count": 5,
   "metadata": {},
   "outputs": [],
   "source": [
    "class Solution:\n",
    "    def removeDuplicates(self, nums):\n",
    "        slow = 0\n",
    "        fast = 0\n",
    "        k = 1\n",
    "        while(fast < len(nums)):\n",
    "            if nums[slow] == nums[fast]:\n",
    "                fast+=1\n",
    "            else:\n",
    "                slow+=1\n",
    "                nums[slow] = nums[fast]\n",
    "                fast+=1\n",
    "                k+=1\n",
    "        return k"
   ]
  },
  {
   "cell_type": "code",
   "execution_count": 6,
   "metadata": {},
   "outputs": [
    {
     "data": {
      "text/plain": [
       "2"
      ]
     },
     "execution_count": 6,
     "metadata": {},
     "output_type": "execute_result"
    }
   ],
   "source": [
    "sol = Solution()\n",
    "nums = [1,1,2]\n",
    "sol.removeDuplicates(nums)"
   ]
  },
  {
   "cell_type": "markdown",
   "metadata": {},
   "source": [
    "為了符合題意不要另外創建一個容器而是直接更改 nums ，我使用 fast slow pointer 的技巧，其實概念很簡單，我先讓 fast 開始往前跑，當跑到和 slow 不同的數值時，就讓 slow 往前進一格"
   ]
  },
  {
   "cell_type": "markdown",
   "metadata": {},
   "source": [
    "### Method 2 (42 ms wins 95.68%, 15.2 MB wins 77.35%)"
   ]
  },
  {
   "cell_type": "code",
   "execution_count": null,
   "metadata": {},
   "outputs": [],
   "source": [
    "# Definition for singly-linked list.\n",
    "# class ListNode:\n",
    "#     def __init__(self, val=0, next=None):\n",
    "#         self.val = val\n",
    "#         self.next = next\n",
    "class Solution:\n",
    "    def reverseKGroup(self, head: Optional[ListNode], k: int) -> Optional[ListNode]:\n",
    "        if k == 1: return head\n",
    "\n",
    "        # find lenght of list by going through it\n",
    "        l = 1\n",
    "        tail = head\n",
    "        while tail.next:\n",
    "            tail = tail.next\n",
    "            l += 1\n",
    "        \n",
    "        # reverse l//k times k elements\n",
    "        curr,dummy = head,ListNode()\n",
    "        tail = dummy\n",
    "\n",
    "        for i in range(l//k): # for every group of size k\n",
    "            prev = None\n",
    "\n",
    "            # reverse it\n",
    "            for x in range(k):\n",
    "                temp = curr.next\n",
    "                curr.next = prev\n",
    "                prev = curr\n",
    "                curr = temp\n",
    "\n",
    "\n",
    "            tail.next = prev # append the group to the dummy\n",
    "            # get the pointer to the end\n",
    "            for x in range(k): tail = tail.next \n",
    "\n",
    "        # append the remaining list\n",
    "        tail.next = curr\n",
    "        return dummy.next"
   ]
  },
  {
   "cell_type": "markdown",
   "metadata": {},
   "source": [
    "該解答來自 Leetcode 上的網友分享，該解題的技巧其實滿單純的，就是先找到整段 linked list 的長度之後，便在每 k 個 node 後 reverse 一次。"
   ]
  }
 ],
 "metadata": {
  "kernelspec": {
   "display_name": "Python 3",
   "language": "python",
   "name": "python3"
  },
  "language_info": {
   "codemirror_mode": {
    "name": "ipython",
    "version": 3
   },
   "file_extension": ".py",
   "mimetype": "text/x-python",
   "name": "python",
   "nbconvert_exporter": "python",
   "pygments_lexer": "ipython3",
   "version": "3.7.4"
  }
 },
 "nbformat": 4,
 "nbformat_minor": 2
}
