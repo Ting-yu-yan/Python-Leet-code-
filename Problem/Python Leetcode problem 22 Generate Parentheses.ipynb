{
 "cells": [
  {
   "cell_type": "markdown",
   "metadata": {},
   "source": [
    "# Python Leetcode challenge"
   ]
  },
  {
   "cell_type": "markdown",
   "metadata": {},
   "source": [
    "## 22. Generate Parentheses (Medium) 20230309\n",
    "\n",
    "Given n pairs of parentheses, write a function to generate all combinations of well-formed parentheses."
   ]
  },
  {
   "cell_type": "markdown",
   "metadata": {},
   "source": [
    "### Method 1 (32 ms wins 84.31%, 14.1 MB wins 67.97%)"
   ]
  },
  {
   "cell_type": "code",
   "execution_count": 24,
   "metadata": {},
   "outputs": [],
   "source": [
    "class Solution:\n",
    "    def generateParenthesis(self, n) :\n",
    "        def dfs(left, right, s):\n",
    "            if len(s) == n * 2:\n",
    "                res.append(s)\n",
    "                return \n",
    "\n",
    "            if left < n:\n",
    "                dfs(left + 1, right, s + '(')\n",
    "\n",
    "            if right < left:\n",
    "                dfs(left, right + 1, s + ')')\n",
    "\n",
    "        res = []\n",
    "        dfs(0, 0, '')\n",
    "        return res"
   ]
  },
  {
   "cell_type": "code",
   "execution_count": 26,
   "metadata": {},
   "outputs": [
    {
     "data": {
      "text/plain": [
       "['((()))', '(()())', '(())()', '()(())', '()()()']"
      ]
     },
     "execution_count": 26,
     "metadata": {},
     "output_type": "execute_result"
    }
   ],
   "source": [
    "sol = Solution()\n",
    "n = 3\n",
    "sol.generateParenthesis(n)"
   ]
  },
  {
   "cell_type": "markdown",
   "metadata": {},
   "source": [
    "該題的解題思維其實滿單純的，我們都從 '(' 起頭，並且遞迴，並且在每次遞迴時判別是否已經完成完整的 parenthesis ，值得注意的是我們在 run right 時，要先判別 left 是否已經存在且數量大於已經存在的 ')' 數量。"
   ]
  }
 ],
 "metadata": {
  "kernelspec": {
   "display_name": "Python 3",
   "language": "python",
   "name": "python3"
  },
  "language_info": {
   "codemirror_mode": {
    "name": "ipython",
    "version": 3
   },
   "file_extension": ".py",
   "mimetype": "text/x-python",
   "name": "python",
   "nbconvert_exporter": "python",
   "pygments_lexer": "ipython3",
   "version": "3.7.4"
  }
 },
 "nbformat": 4,
 "nbformat_minor": 2
}
