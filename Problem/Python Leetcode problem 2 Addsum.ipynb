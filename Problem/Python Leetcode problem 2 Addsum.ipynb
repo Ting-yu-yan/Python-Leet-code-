{
 "cells": [
  {
   "cell_type": "markdown",
   "metadata": {},
   "source": [
    "# Python Leetcode challenge\n",
    "\n",
    "## 2. Add Two Numbers\n",
    "\n",
    "<p style=\"font-size:16px\"> Description: </p> \n",
    "\n",
    "You are given two non-empty linked lists representing two non-negative integers. The digits are stored in reverse order, and each of their nodes contains a single digit. Add the two numbers and return the sum as a linked list.\n",
    "\n",
    "You may assume the two numbers do not contain any leading zero, except the number 0 itself.\n",
    "\n",
    "<p style=\"font-weight:bold\"> For example </p>\n",
    "\n",
    "Input: L1 = [2,4,3], L2 = [5,6,4]\n",
    "\n",
    "Output: [7,0,8]\n",
    "\n",
    "Explanation: 342 + 465 = 807.\n"
   ]
  },
  {
   "cell_type": "code",
   "execution_count": 70,
   "metadata": {},
   "outputs": [],
   "source": [
    "class ListNode(object):\n",
    "    def __init__(self, val=0, next=None):\n",
    "        self.val = val\n",
    "        self.next = next\n",
    "        \n",
    "class Solution(object):\n",
    "    def addTwoNumbers(self, l1, l2):\n",
    "        \"\"\"\n",
    "        :type l1: ListNode\n",
    "        :type l2: ListNode\n",
    "        :rtype: ListNode\n",
    "        \"\"\"\n",
    "        val = l1.val + l2.val\n",
    "        c = val // 10\n",
    "        ret = result = ListNode(val % 10 ) \n",
    "        while l1.next or l2.next or c:\n",
    "            if l1.next:\n",
    "                l1 = l1.next\n",
    "                c += l1.val\n",
    "            if l2.next:\n",
    "                l2 = l2.next\n",
    "                c += l2.val\n",
    "            ret.next = ListNode(c % 10)\n",
    "            ret = ret.next\n",
    "            c //= 10\n",
    "        return result\n"
   ]
  },
  {
   "cell_type": "markdown",
   "metadata": {},
   "source": [
    "解題關鍵在於，當我們指定 ret = result 時，因為 ret 跟 result 都是來自同一個 class，因此當 ret.next 修改時，result.next 也會跟著改成 ret.next ，接下來是最關鍵的一步，當我們指定 ret = ret.next 時，因為 ret.next = result.next，故當我們接著給定 ret.next = ListNode()，事實上就是給定 result.next.next，因為 ret.next 其實就是 ret.next.next，因此透過這種方式，我們就能將 result.next.next.next ... 一直無限指定下去。"
   ]
  },
  {
   "cell_type": "code",
   "execution_count": 133,
   "metadata": {},
   "outputs": [],
   "source": [
    "def change_list_as_listnode(tmp_list):\n",
    "    if tmp_list and type(tmp_list) is list:\n",
    "        ret = result = ListNode(val = tmp_list[0])\n",
    "        for i in tmp_list[1:]:\n",
    "            ret.next = ListNode(val = i)\n",
    "            ret = ret.next\n",
    "        return(result)\n",
    "    else:\n",
    "        print(\"Empty list or input object isn't a list\")\n",
    "\n",
    "def listnode_as_list(listnode):\n",
    "    if listnode and type(listnode) is ListNode:\n",
    "        result = []\n",
    "        ret = listnode\n",
    "        while True:\n",
    "            result.append(ret.val)\n",
    "            ret = ret.next\n",
    "            if ret == None:\n",
    "                break\n",
    "            if not ret.next:\n",
    "                result.append(ret.val)\n",
    "                break\n",
    "        return(result)\n",
    "    else:\n",
    "        print(\"Empty listnode or input object isn't a ListNode\")"
   ]
  },
  {
   "cell_type": "code",
   "execution_count": 137,
   "metadata": {
    "scrolled": true
   },
   "outputs": [
    {
     "name": "stdout",
     "output_type": "stream",
     "text": [
      "L1 = [4, 3, 2, 1]\n",
      "L2 = [4, 6, 5]\n",
      "Add_sum = [4, 7, 8, 6]\n"
     ]
    }
   ],
   "source": [
    "L1 = change_list_as_listnode([1,2,3,4])\n",
    "L2 = change_list_as_listnode([5,6,4])\n",
    "s = Solution()\n",
    "add_sum = s.addTwoNumbers(L1,L2)\n",
    "print(f'L1 = {listnode_as_list(L1)[::-1]}')\n",
    "print(f'L2 = {listnode_as_list(L2)[::-1]}')\n",
    "print(f'Add_sum = {listnode_as_list(add_sum)[::-1]}')"
   ]
  }
 ],
 "metadata": {
  "kernelspec": {
   "display_name": "Python 3",
   "language": "python",
   "name": "python3"
  },
  "language_info": {
   "codemirror_mode": {
    "name": "ipython",
    "version": 3
   },
   "file_extension": ".py",
   "mimetype": "text/x-python",
   "name": "python",
   "nbconvert_exporter": "python",
   "pygments_lexer": "ipython3",
   "version": "3.7.4"
  }
 },
 "nbformat": 4,
 "nbformat_minor": 2
}
