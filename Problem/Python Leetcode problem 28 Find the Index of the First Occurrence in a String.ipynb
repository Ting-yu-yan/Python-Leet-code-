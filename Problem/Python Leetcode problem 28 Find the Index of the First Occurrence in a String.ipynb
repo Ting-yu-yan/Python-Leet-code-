{
 "cells": [
  {
   "cell_type": "markdown",
   "metadata": {},
   "source": [
    "# Python Leetcode challenge"
   ]
  },
  {
   "cell_type": "markdown",
   "metadata": {},
   "source": [
    "## 28. Find the Index of the First Occurrence in a String (Easy) 20230320\n",
    "\n",
    "Given two strings needle and haystack, return the index of the first occurrence of needle in haystack, or -1 if needle is not part of haystack."
   ]
  },
  {
   "cell_type": "code",
   "execution_count": 42,
   "metadata": {},
   "outputs": [
    {
     "data": {
      "text/plain": [
       "2"
      ]
     },
     "execution_count": 42,
     "metadata": {},
     "output_type": "execute_result"
    }
   ],
   "source": [
    "'asdasdasd'.find('das')"
   ]
  },
  {
   "cell_type": "markdown",
   "metadata": {},
   "source": [
    "### Method 1 (23 ms wins 97.63%, 13.8 MB wins 52.79%)"
   ]
  },
  {
   "cell_type": "code",
   "execution_count": 43,
   "metadata": {},
   "outputs": [],
   "source": [
    "class Solution:\n",
    "    def strStr(self, haystack, needle):     \n",
    "        end = len(needle) -1\n",
    "        start = 0\n",
    "        n = len(needle)\n",
    "        if n ==1:\n",
    "            return haystack.find(needle)\n",
    "        while(end<len(haystack)):\n",
    "            if needle[0] == haystack[start]:\n",
    "                for i in range(1,n):\n",
    "                    if needle[i] != haystack[start+i]:\n",
    "                        break\n",
    "                    if i == n-1:\n",
    "                        return start\n",
    "            start += 1\n",
    "            end += 1\n",
    "        return -1\n",
    "        "
   ]
  },
  {
   "cell_type": "code",
   "execution_count": 44,
   "metadata": {},
   "outputs": [
    {
     "name": "stdout",
     "output_type": "stream",
     "text": [
      "0\n"
     ]
    }
   ],
   "source": [
    "sol = Solution()\n",
    "haystack = \"abc\"\n",
    "needle = \"ab\"\n",
    "print(sol.strStr(haystack,needle))\n"
   ]
  },
  {
   "cell_type": "markdown",
   "metadata": {},
   "source": [
    "利用 moving window 的概念，先比對第一個字母，如果不相同就把 pointer +1，若相同則繼續比對第二個字母，直到比對到 needle 的最後的一個字母為止倘若都ㄇㄟ"
   ]
  },
  {
   "cell_type": "markdown",
   "metadata": {},
   "source": [
    "### Method 2 (23 ms wins 99.18%, 13.9 MB wins 7.80%)"
   ]
  },
  {
   "cell_type": "code",
   "execution_count": 19,
   "metadata": {},
   "outputs": [],
   "source": [
    "class Solution:\n",
    "    def removeElement(self, nums, val) -> int:\n",
    "        length = len(nums)\n",
    "        i = 0\n",
    "        while i<length:\n",
    "            if nums[i] == val:\n",
    "                del(nums[i])\n",
    "                i -= 1\n",
    "                length -=1\n",
    "            i += 1\n",
    "        return length"
   ]
  },
  {
   "cell_type": "markdown",
   "metadata": {},
   "source": [
    "Method2 的做法是我參考 leetcode 上前百分之一的人的做法，其做法更加簡單暴力，就只是單純的比對數列中的每個 element 是否等於 val 是的話就拿掉，不是的話就跳過。"
   ]
  }
 ],
 "metadata": {
  "kernelspec": {
   "display_name": "Python 3",
   "language": "python",
   "name": "python3"
  },
  "language_info": {
   "codemirror_mode": {
    "name": "ipython",
    "version": 3
   },
   "file_extension": ".py",
   "mimetype": "text/x-python",
   "name": "python",
   "nbconvert_exporter": "python",
   "pygments_lexer": "ipython3",
   "version": "3.7.4"
  }
 },
 "nbformat": 4,
 "nbformat_minor": 2
}
