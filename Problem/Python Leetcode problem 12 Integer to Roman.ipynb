{
 "cells": [
  {
   "cell_type": "markdown",
   "metadata": {},
   "source": [
    "# Python Leetcode challenge"
   ]
  },
  {
   "cell_type": "markdown",
   "metadata": {},
   "source": [
    "## 12. Integer to Roman (Medium) 20230222"
   ]
  },
  {
   "cell_type": "markdown",
   "metadata": {},
   "source": [
    "<p style=\"font-size:16px\">Description:</p>\n",
    "\n",
    "Roman numerals are represented by seven different symbols: I, V, X, L, C, D and M\n",
    "\n",
    "Given an integer, convert it to a roman numeral.\n",
    "\n",
    "<ul>\n",
    "<li>Symbol       Value</li>\n",
    "<li>I = 1</li>\n",
    "<li>V = 5</li>\n",
    "<li>X = 10</li>\n",
    "<li>L = 50</li>\n",
    "<li>C = 100</li>\n",
    "<li>D = 500</li>\n",
    "<li>M = 1000</li>\n",
    "</ul>"
   ]
  },
  {
   "cell_type": "markdown",
   "metadata": {},
   "source": [
    "### Method 1 (39 ms wins 97.12%, 13.8 MB wins 71.40%)"
   ]
  },
  {
   "cell_type": "code",
   "execution_count": 34,
   "metadata": {},
   "outputs": [
    {
     "data": {
      "text/plain": [
       "'0'"
      ]
     },
     "execution_count": 34,
     "metadata": {},
     "output_type": "execute_result"
    }
   ],
   "source": [
    "dict_roman = {'DCCCC':'CM','CCCC':'CD','LXXXX':'XC','XXXX':'XL','VIIII':'IX','IIII':'IV'}\n",
    "dict_roman.get('abc','0')"
   ]
  },
  {
   "cell_type": "code",
   "execution_count": 37,
   "metadata": {},
   "outputs": [],
   "source": [
    "class Solution:\n",
    "    def intToRoman(self, num: int) -> str:\n",
    "        thousand_digit = num // 1000\n",
    "        hundred_digit = num % 1000 // 100\n",
    "        ten_digit = num % 1000 % 100 // 10\n",
    "        digit = num % 1000 % 100 % 10 \n",
    "        dict_roman = {'DCCCC':'CM','CCCC':'CD','LXXXX':'XC','XXXX':'XL','VIIII':'IX','IIII':'IV'}\n",
    "        thousand_roman = thousand_digit*'M'\n",
    "        hudred_roman = (hundred_digit // 5)*'D' + (hundred_digit % 5)*'C'\n",
    "        hudred_roman = dict_roman[hudred_roman] if hudred_roman in dict_roman else hudred_roman\n",
    "        ten_roman = (ten_digit // 5)*'L' + (ten_digit % 5)*'X'\n",
    "        ten_roman = dict_roman[ten_roman] if ten_roman in dict_roman else ten_roman\n",
    "        roman = (digit // 5)*'V' + (digit % 5)*'I'\n",
    "        roman = dict_roman[roman] if roman in dict_roman else roman\n",
    "        return thousand_roman + hudred_roman + ten_roman + roman"
   ]
  },
  {
   "cell_type": "code",
   "execution_count": 38,
   "metadata": {},
   "outputs": [
    {
     "data": {
      "text/plain": [
       "'MCMXCIV'"
      ]
     },
     "execution_count": 38,
     "metadata": {},
     "output_type": "execute_result"
    }
   ],
   "source": [
    "num = 1994\n",
    "s = Solution()\n",
    "s.intToRoman(num)"
   ]
  },
  {
   "cell_type": "markdown",
   "metadata": {},
   "source": [
    "這題其實滿單純的，唯一需要考量的只有 4 跟 9 的情形，我們可以將問題拆解成個別位數(digit)分別來找出其跟 roman 的對照，並且在 concate 再一起，而我的作法是我先針對所有的數字有一統一的做法，接著再判斷是否有 4 或 9 並且進行替換。"
   ]
  }
 ],
 "metadata": {
  "kernelspec": {
   "display_name": "Python 3",
   "language": "python",
   "name": "python3"
  },
  "language_info": {
   "codemirror_mode": {
    "name": "ipython",
    "version": 3
   },
   "file_extension": ".py",
   "mimetype": "text/x-python",
   "name": "python",
   "nbconvert_exporter": "python",
   "pygments_lexer": "ipython3",
   "version": "3.7.4"
  }
 },
 "nbformat": 4,
 "nbformat_minor": 2
}
