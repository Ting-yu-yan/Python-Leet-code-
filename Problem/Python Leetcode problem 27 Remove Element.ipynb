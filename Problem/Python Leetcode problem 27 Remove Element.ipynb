{
 "cells": [
  {
   "cell_type": "markdown",
   "metadata": {},
   "source": [
    "# Python Leetcode challenge"
   ]
  },
  {
   "cell_type": "markdown",
   "metadata": {},
   "source": [
    "## 27. Remove Element (Easy) 20230318\n",
    "\n",
    "Given an integer array nums and an integer val, remove all occurrences of val in nums in-place. The relative order of the elements may be changed.\n",
    "\n",
    "Since it is impossible to change the length of the array in some languages, you must instead have the result be placed in the first part of the array nums. More formally, if there are k elements after removing the duplicates, then the first k elements of nums should hold the final result. It does not matter what you leave beyond the first k elements.\n",
    "\n",
    "Return k after placing the final result in the first k slots of nums.\n",
    "\n",
    "Do not allocate extra space for another array. You must do this by modifying the input array in-place with O(1) extra memory."
   ]
  },
  {
   "cell_type": "markdown",
   "metadata": {},
   "source": [
    "### Method 1 (31 ms wins 85.38%, 13.8 MB wins 51.9%)"
   ]
  },
  {
   "cell_type": "code",
   "execution_count": 16,
   "metadata": {},
   "outputs": [],
   "source": [
    "class Solution:\n",
    "    def removeElement(self, nums, val):\n",
    "        slow = fast = 0\n",
    "        k=0\n",
    "        while(fast < len(nums)):\n",
    "            if nums[slow] == nums[fast] == val:\n",
    "                fast +=1\n",
    "                k+=1\n",
    "            elif nums[slow] == val:\n",
    "                nums[slow] = nums[fast]\n",
    "                nums[fast] = val\n",
    "                slow += 1\n",
    "                fast += 1\n",
    "            elif nums[slow]!= val and nums[fast]!= val:\n",
    "                slow+=1\n",
    "                fast+=1\n",
    "            else:\n",
    "                slow+=1\n",
    "                k+=1\n",
    "        return len(nums) - k       \n",
    "        "
   ]
  },
  {
   "cell_type": "code",
   "execution_count": 17,
   "metadata": {},
   "outputs": [
    {
     "name": "stdout",
     "output_type": "stream",
     "text": [
      "5\n",
      "[0, 1, 3, 0, 4, 2, 2, 2]\n"
     ]
    }
   ],
   "source": [
    "sol = Solution()\n",
    "nums = [0,1,2,2,3,0,4,2]\n",
    "val = 2\n",
    "print(sol.removeElement(nums,val))\n",
    "print(nums)"
   ]
  },
  {
   "cell_type": "markdown",
   "metadata": {},
   "source": [
    "為了符合題意不另外創建容器，我利用 slow 跟 fast 兩個 pointer 來完成本次的任務，概念很簡單，我們分別討論四種不同的可能情形，也就是 slow / fast 以及是否等於 val 等四種情形來決定誰要往前走以及是否需要做 change!。"
   ]
  },
  {
   "cell_type": "markdown",
   "metadata": {},
   "source": [
    "### Method 2 (23 ms wins 99.18%, 13.9 MB wins 7.80%)"
   ]
  },
  {
   "cell_type": "code",
   "execution_count": 19,
   "metadata": {},
   "outputs": [],
   "source": [
    "class Solution:\n",
    "    def removeElement(self, nums, val) -> int:\n",
    "        length = len(nums)\n",
    "        i = 0\n",
    "        while i<length:\n",
    "            if nums[i] == val:\n",
    "                del(nums[i])\n",
    "                i -= 1\n",
    "                length -=1\n",
    "            i += 1\n",
    "        return length"
   ]
  },
  {
   "cell_type": "markdown",
   "metadata": {},
   "source": [
    "Method2 的做法是我參考 leetcode 上前百分之一的人的做法，其做法更加簡單暴力，就只是單純的比對數列中的每個 element 是否等於 val 是的話就拿掉，不是的話就跳過。"
   ]
  }
 ],
 "metadata": {
  "kernelspec": {
   "display_name": "Python 3",
   "language": "python",
   "name": "python3"
  },
  "language_info": {
   "codemirror_mode": {
    "name": "ipython",
    "version": 3
   },
   "file_extension": ".py",
   "mimetype": "text/x-python",
   "name": "python",
   "nbconvert_exporter": "python",
   "pygments_lexer": "ipython3",
   "version": "3.7.4"
  }
 },
 "nbformat": 4,
 "nbformat_minor": 2
}
