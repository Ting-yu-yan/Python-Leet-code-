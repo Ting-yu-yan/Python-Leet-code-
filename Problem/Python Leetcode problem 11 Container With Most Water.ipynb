{
 "cells": [
  {
   "cell_type": "markdown",
   "metadata": {},
   "source": [
    "# Python Leetcode challenge"
   ]
  },
  {
   "cell_type": "markdown",
   "metadata": {},
   "source": [
    "## 11. Container With Most Water (Medium) 20230222"
   ]
  },
  {
   "cell_type": "markdown",
   "metadata": {},
   "source": [
    "<p style=\"font-size:16px\">Description:</p>\n",
    "\n",
    "You are given an integer array height of length n. There are n vertical lines drawn such that the two endpoints of the ith line are (i, 0) and (i, height[i]).\n",
    "\n",
    "Find two lines that together with the x-axis form a container, such that the container contains the most water.\n",
    "\n",
    "Return the maximum amount of water a container can store.\n",
    "\n",
    "Notice that you may not slant the container."
   ]
  },
  {
   "cell_type": "markdown",
   "metadata": {},
   "source": [
    "### Method 1 (682 ms wins 95.60%, 27.5 MB wins 46.30%)"
   ]
  },
  {
   "cell_type": "code",
   "execution_count": 4,
   "metadata": {},
   "outputs": [],
   "source": [
    "class Solution:\n",
    "    def maxArea(self, height) -> int:\n",
    "        left_pointer = 0\n",
    "        right_pointer = len(height) - 1\n",
    "        max_area = 0\n",
    "        while(left_pointer!=right_pointer):\n",
    "            if height[left_pointer] >= height[right_pointer]:\n",
    "                area_tmp = height[right_pointer] * (right_pointer - left_pointer)\n",
    "                right_pointer -=1\n",
    "            else:\n",
    "                area_tmp = height[left_pointer] * (right_pointer - left_pointer)\n",
    "                left_pointer +=1\n",
    "            if area_tmp > max_area:\n",
    "                max_area = area_tmp\n",
    "        return max_area\n",
    "                "
   ]
  },
  {
   "cell_type": "code",
   "execution_count": 6,
   "metadata": {},
   "outputs": [
    {
     "data": {
      "text/plain": [
       "1"
      ]
     },
     "execution_count": 6,
     "metadata": {},
     "output_type": "execute_result"
    }
   ],
   "source": [
    "height = [1,1]\n",
    "s = Solution()\n",
    "s.maxArea(height)"
   ]
  },
  {
   "cell_type": "markdown",
   "metadata": {},
   "source": [
    "這題看似複雜，但其實意外簡單，解題的關鍵在於我們要先找到初始點，以及如何進行迭代，初始點即為 h(0) 跟 h(n-1) 其長度為最長 (n-1) ，而迭代的方式很重要，因為 h(0) 跟 h(n-1) 不相同時，一定有一方比較小，此時的面積為 min(h(0),h(n-1)) * (n-1)，但我們不知道該面積是否為最大，因此需要進行迭代，下一步就是我們要思考該如何迭代，一個很值觀的方式就是我們讓 h(0) -> h(1) 或是 h(n-1) -> h(n-2) 但其中有一個做法是多餘的，原因在於假設 h(n-1) > h(0) 則此時的面積為 h(0)*(n-1)，當我們移動 h(n-1) -> h(n-2) 時，此時的面積一定會小於原先的面積 h(0)*(n-1) 原因在於當 h(n-1) -> h(n-2) 時，面積的計算方式依然是 min(h(0),h(n-2))*(n-2)，此時的長度從 n-1 縮小成 n-2，而高度則有可能是 h(0) 或是 h(n-2) 跟原先的高度一樣甚至更小。\n",
    "\n",
    "因此我們就不必考慮移動 h(n-1) 而只需要移動 h(0) -> h(1) 即可，接著我們一樣比較 h(1) 跟 h(n-1) 誰比較大，便可以計算出面積，此時再跟原先計算出來的面積進行比較，接著再重複以上的動作將較小高度的位置點前進一格，重複以上步驟就可以得到最大得面積。\n",
    "\n",
    "你可能會有疑問是說，如果前進一格後發現長度超長，那我們是否應該把另外一個位置往後退一格看看，結論是: 不用，因為另外一個位置之所以會前進是因為當時在比較是他一定比另外一個位置的高度還要小，才會前進，又目前我們前進一個後發現長度超長，表示我們目前的位置對應的高度一定小於當前的另外的一個點所對應的高度，而另外一個點所對應的高度的前一個高度一定小時當前對應的點的高度，因此我們毋須將外另一個位置往後退一格，原因在於往後退一格一定會得到比較小的答案。"
   ]
  }
 ],
 "metadata": {
  "kernelspec": {
   "display_name": "Python 3",
   "language": "python",
   "name": "python3"
  },
  "language_info": {
   "codemirror_mode": {
    "name": "ipython",
    "version": 3
   },
   "file_extension": ".py",
   "mimetype": "text/x-python",
   "name": "python",
   "nbconvert_exporter": "python",
   "pygments_lexer": "ipython3",
   "version": "3.7.4"
  }
 },
 "nbformat": 4,
 "nbformat_minor": 2
}
