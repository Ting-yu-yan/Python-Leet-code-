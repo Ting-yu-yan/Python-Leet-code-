{
 "cells": [
  {
   "cell_type": "markdown",
   "metadata": {},
   "source": [
    "# Python Leetcode challenge"
   ]
  },
  {
   "cell_type": "markdown",
   "metadata": {},
   "source": [
    "## 5. Longest Palindromic Substring (Medium) 20220203"
   ]
  },
  {
   "cell_type": "markdown",
   "metadata": {},
   "source": [
    "<p style=\"font-size:16px\">Description:</p>\n",
    "\n",
    "Given a string s, return the longest palindromic substring in s.\n",
    "\n",
    "For example:\n",
    "\n",
    "Input: s = \"babad\"\n",
    "\n",
    "Output: \"bab\"\n",
    "\n",
    "Explanation: \"aba\" is also a valid answer.\n"
   ]
  },
  {
   "cell_type": "markdown",
   "metadata": {},
   "source": [
    "### Method 1 (5136 ms)"
   ]
  },
  {
   "cell_type": "code",
   "execution_count": 140,
   "metadata": {},
   "outputs": [],
   "source": [
    "import re\n",
    "\n",
    "class Solution1:\n",
    "    def longestPalindrome(self, s: str):\n",
    "        s1 = '$'+'$'.join(s)+'$'\n",
    "        global length \n",
    "        global position \n",
    "        global left \n",
    "        global right \n",
    "        global index \n",
    "        length = 0\n",
    "        position = 0\n",
    "        left = 0\n",
    "        right = 0\n",
    "        index = 1\n",
    "        \n",
    "        for i in range(len(s1)):\n",
    "            index = 1\n",
    "            while (i-index)>=0 and (i+index)<= len(s1)-1:\n",
    "                if s1[i-index] == s1[i+index]:\n",
    "                    if len(s1[i-index:i+index+1]) > length:\n",
    "                        length = len(s1[i-index:i+index+1])\n",
    "                        position = i\n",
    "                        left = i-index\n",
    "                        right = i+index\n",
    "                    index += 1\n",
    "                else:\n",
    "                    break\n",
    "        result = re.sub('[$]','',s1[left:right+1])\n",
    "        return result"
   ]
  },
  {
   "cell_type": "code",
   "execution_count": 141,
   "metadata": {
    "scrolled": true
   },
   "outputs": [
    {
     "data": {
      "text/plain": [
       "'bb'"
      ]
     },
     "execution_count": 141,
     "metadata": {},
     "output_type": "execute_result"
    }
   ],
   "source": [
    "str1 = 'abb'\n",
    "s = Solution1()\n",
    "s.longestPalindrome(str1)"
   ]
  },
  {
   "cell_type": "markdown",
   "metadata": {},
   "source": [
    "以上方法的邏輯其實很簡單，就是從第一個字母開始當作是 center 並且檢查是否為 Palindromic string，其實就是最暴力的解法，該方法的執行效率超級慢，許多次都沒辦法通過 leet code 的時間要求。"
   ]
  },
  {
   "cell_type": "markdown",
   "metadata": {},
   "source": [
    "### Method 2 (915ms)  Expand Around Center"
   ]
  },
  {
   "cell_type": "code",
   "execution_count": 151,
   "metadata": {},
   "outputs": [],
   "source": [
    "class Solution2:\n",
    "    def longestPalindrome(self, s):\n",
    "        self.maxlen = 0\n",
    "        self.start = 0\n",
    "    \n",
    "        for i in range(len(s)):\n",
    "            self.expandFromCenter(s,i,i)\n",
    "            self.expandFromCenter(s,i,i+1)\n",
    "        return s[self.start:self.start+self.maxlen]\n",
    "    \n",
    "\n",
    "    def expandFromCenter(self,s,l,r):\n",
    "        while l > -1 and r < len(s) and s[l] ==s[r]:\n",
    "            l -= 1\n",
    "            r += 1\n",
    "    \n",
    "        if self.maxlen < r-l-1:\n",
    "            self.maxlen = r-l-1\n",
    "            self.start = l + 1"
   ]
  },
  {
   "cell_type": "code",
   "execution_count": 152,
   "metadata": {},
   "outputs": [
    {
     "data": {
      "text/plain": [
       "'abba'"
      ]
     },
     "execution_count": 152,
     "metadata": {},
     "output_type": "execute_result"
    }
   ],
   "source": [
    "str1 = 'abba'\n",
    "s = Solution2()\n",
    "s.longestPalindrome(str1)"
   ]
  },
  {
   "cell_type": "markdown",
   "metadata": {},
   "source": [
    "以上的演算法邏輯是我們將所有可能的 center 候選點找出來，並且挑出最長的 Palindromic string ，其實我原本自己寫的方法也是跟上面的演算法用一樣的概念，但差別在於我的寫法比較不俐落，二來是我還額外用了 '$' 當作定位符號，但其實沒有這個必要!。 若要用兩個字母中間的空格當作定位符號，其實只要用 i 跟 i+1 即可，最後，以上的兩種方式我們都是從最小的 palindromic string 開始逐漸 expand 但其實我們可以直接從最大的開始檢驗。"
   ]
  },
  {
   "cell_type": "code",
   "execution_count": null,
   "metadata": {},
   "outputs": [],
   "source": []
  }
 ],
 "metadata": {
  "kernelspec": {
   "display_name": "Python 3",
   "language": "python",
   "name": "python3"
  },
  "language_info": {
   "codemirror_mode": {
    "name": "ipython",
    "version": 3
   },
   "file_extension": ".py",
   "mimetype": "text/x-python",
   "name": "python",
   "nbconvert_exporter": "python",
   "pygments_lexer": "ipython3",
   "version": "3.7.4"
  }
 },
 "nbformat": 4,
 "nbformat_minor": 2
}
