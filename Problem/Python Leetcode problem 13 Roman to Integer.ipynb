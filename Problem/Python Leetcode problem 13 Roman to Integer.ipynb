{
 "cells": [
  {
   "cell_type": "markdown",
   "metadata": {},
   "source": [
    "# Python Leetcode challenge"
   ]
  },
  {
   "cell_type": "markdown",
   "metadata": {},
   "source": [
    "## 13. Roman to Integer (Easy) 20230228"
   ]
  },
  {
   "cell_type": "markdown",
   "metadata": {},
   "source": [
    "<p style=\"font-size:16px\">Description:</p>\n",
    "\n",
    "Roman numerals are represented by seven different symbols: I, V, X, L, C, D and M.\n",
    "\n",
    "<ul>\n",
    "<li>Symbol       Value</li>\n",
    "<li>I = 1</li>\n",
    "<li>V = 5</li>\n",
    "<li>X = 10</li>\n",
    "<li>L = 50</li>\n",
    "<li>C = 100</li>\n",
    "<li>D = 500</li>\n",
    "<li>M = 1000</li>\n",
    "</ul>\n",
    "\n",
    "Given a roman numeral, convert it to an integer."
   ]
  },
  {
   "cell_type": "markdown",
   "metadata": {},
   "source": [
    "### Method 1 (44 ms wins 86.47%%, 13.8 MB wins 66.37%)"
   ]
  },
  {
   "cell_type": "code",
   "execution_count": 10,
   "metadata": {},
   "outputs": [],
   "source": [
    "class Solution:\n",
    "    def romanToInt(self,str1) -> int:\n",
    "        dict_roman = {'I':1,'V':5,'X':10,'L':50,'C':100,'D':500,'M':1000}\n",
    "        sum_result = 0\n",
    "        for i in range(len(str1)-1):\n",
    "            if dict_roman[str1[i+1]] > dict_roman[str1[i]]:\n",
    "                sum_result -= dict_roman[str1[i]]\n",
    "            else:\n",
    "                sum_result += dict_roman[str1[i]]\n",
    "        sum_result += dict_roman[str1[-1]]\n",
    "        return sum_result"
   ]
  },
  {
   "cell_type": "code",
   "execution_count": 15,
   "metadata": {},
   "outputs": [
    {
     "data": {
      "text/plain": [
       "900"
      ]
     },
     "execution_count": 15,
     "metadata": {},
     "output_type": "execute_result"
    }
   ],
   "source": [
    "str1 = 'CM'\n",
    "s = Solution()\n",
    "s.romanToInt(str1)"
   ]
  },
  {
   "cell_type": "markdown",
   "metadata": {},
   "source": [
    "這題跟前一題的概念是相反的，但解題的思維其實大同小異，我們一樣透過 dict 來建立羅馬數字跟數字的對應關係，但值得注意的是，我們必須考量 4 跟 9 的情形，也就是說我們不能直接將羅馬數字轉成數字後相加，例如 IV = 4，但直接相加得 1 + 5 = 6，因此我們必須考量該羅馬數字之下一位數較大還是較小，因為 I < V，但I出現在V前面，因此我們將其改為 - 號，得 -1 + 5 = 4。"
   ]
  }
 ],
 "metadata": {
  "kernelspec": {
   "display_name": "Python 3",
   "language": "python",
   "name": "python3"
  },
  "language_info": {
   "codemirror_mode": {
    "name": "ipython",
    "version": 3
   },
   "file_extension": ".py",
   "mimetype": "text/x-python",
   "name": "python",
   "nbconvert_exporter": "python",
   "pygments_lexer": "ipython3",
   "version": "3.7.4"
  }
 },
 "nbformat": 4,
 "nbformat_minor": 2
}
