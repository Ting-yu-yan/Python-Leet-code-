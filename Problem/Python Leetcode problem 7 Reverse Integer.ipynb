{
 "cells": [
  {
   "cell_type": "markdown",
   "metadata": {},
   "source": [
    "# Python Leetcode challenge"
   ]
  },
  {
   "cell_type": "markdown",
   "metadata": {},
   "source": [
    "## 7. Reverse Integer (Medium) 20220711"
   ]
  },
  {
   "cell_type": "markdown",
   "metadata": {},
   "source": [
    "<p style=\"font-size:16px\">Description:</p>\n",
    "\n",
    "Given a signed 32-bit integer x, return x with its digits reversed. If reversing x causes the value to go outside the signed 32-bit integer range [-231, 231 - 1], then return 0.\n",
    "\n",
    "For example:\n",
    "\n",
    "Input: x = -120\n",
    "\n",
    "Output: -21\n"
   ]
  },
  {
   "cell_type": "markdown",
   "metadata": {},
   "source": [
    "### Method 1 (42 ms wins 73.50%, 13.8 MB wins 63.14%)"
   ]
  },
  {
   "cell_type": "code",
   "execution_count": 46,
   "metadata": {},
   "outputs": [],
   "source": [
    "class Solution:\n",
    "    def reverse(self, x: int) -> int:\n",
    "        s = str(x)\n",
    "        if s[0] =='-':\n",
    "            rev_s = '-' + s[-1:0:-1]\n",
    "        else:\n",
    "            rev_s = s[::-1]\n",
    "        if abs(int(rev_s)) > 2**31 -1:\n",
    "            return 0 \n",
    "        else:\n",
    "            return int(rev_s)\n",
    "        "
   ]
  },
  {
   "cell_type": "code",
   "execution_count": 47,
   "metadata": {},
   "outputs": [
    {
     "data": {
      "text/plain": [
       "-321"
      ]
     },
     "execution_count": 47,
     "metadata": {},
     "output_type": "execute_result"
    }
   ],
   "source": [
    "str1 = '-123000'\n",
    "s = Solution()\n",
    "s.reverse(str1)"
   ]
  },
  {
   "cell_type": "markdown",
   "metadata": {},
   "source": [
    "上面的做法其實很直觀，我們只是先把整數轉成字串，然後判斷是否為負數並且 sorting，最後再轉回整數判別是否有超出範圍"
   ]
  },
  {
   "cell_type": "markdown",
   "metadata": {},
   "source": [
    "### Method 2 (34 ms wins 92.06%, 14.0 MB wins 16.04%) Pop and Push Digits & Check before Overflow"
   ]
  },
  {
   "cell_type": "code",
   "execution_count": 53,
   "metadata": {},
   "outputs": [],
   "source": [
    "class Solution:\n",
    "    def reverse(self, x: int) -> int:\n",
    "        neg = x < 0\n",
    "        x = abs(x)\n",
    "        rev_x = 0\n",
    "        \n",
    "        while x != 0:\n",
    "            rev_x = rev_x * 10 + x % 10\n",
    "            x //=10\n",
    "            if rev_x >2**31 -1:\n",
    "                return 0\n",
    "        return rev_x if not neg else - rev_x"
   ]
  },
  {
   "cell_type": "code",
   "execution_count": 56,
   "metadata": {},
   "outputs": [
    {
     "data": {
      "text/plain": [
       "0"
      ]
     },
     "execution_count": 56,
     "metadata": {},
     "output_type": "execute_result"
    }
   ],
   "source": [
    "str1 = 2**31 -1\n",
    "s = Solution()\n",
    "s.reverse(str1)"
   ]
  },
  {
   "cell_type": "markdown",
   "metadata": {},
   "source": [
    "上面的作法是 Python leet code solution 的推薦答案，方法是透過 pop and push algorithm 來實現，每次都取除以 10 之後的餘數，並且把前一個數字乘以 10 後加上該餘數即可得到 reversed integer! "
   ]
  }
 ],
 "metadata": {
  "kernelspec": {
   "display_name": "Python 3",
   "language": "python",
   "name": "python3"
  },
  "language_info": {
   "codemirror_mode": {
    "name": "ipython",
    "version": 3
   },
   "file_extension": ".py",
   "mimetype": "text/x-python",
   "name": "python",
   "nbconvert_exporter": "python",
   "pygments_lexer": "ipython3",
   "version": "3.7.4"
  }
 },
 "nbformat": 4,
 "nbformat_minor": 2
}
