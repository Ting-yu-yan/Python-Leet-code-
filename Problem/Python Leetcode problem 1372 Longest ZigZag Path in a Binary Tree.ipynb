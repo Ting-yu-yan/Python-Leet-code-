{
 "cells": [
  {
   "cell_type": "markdown",
   "metadata": {},
   "source": [
    "# Python Leetcode challenge"
   ]
  },
  {
   "cell_type": "markdown",
   "metadata": {},
   "source": [
    "## 1372. Longest ZigZag Path in a Binary Tree (Medium) 20230419\n",
    "\n",
    "You are given the root of a binary tree.\n",
    "\n",
    "A ZigZag path for a binary tree is defined as follow:\n",
    "\n",
    "Choose any node in the binary tree and a direction (right or left).\n",
    "If the current direction is right, move to the right child of the current node; otherwise, move to the left child.\n",
    "Change the direction from right to left or from left to right.\n",
    "Repeat the second and third steps until you can't move in the tree.\n",
    "Zigzag length is defined as the number of nodes visited - 1. (A single node has a length of 0).\n",
    "\n",
    "Return the longest ZigZag path contained in that tree."
   ]
  },
  {
   "cell_type": "markdown",
   "metadata": {},
   "source": [
    "### Method 1 (345 ms wins 97.6%, 62.5 MB wins 19.12%)"
   ]
  },
  {
   "cell_type": "code",
   "execution_count": 66,
   "metadata": {},
   "outputs": [],
   "source": [
    "class Solution:\n",
    "    def longestZigZag(self, root) -> int:\n",
    "        def recur(node , lr , len_):\n",
    "            result.append(len_)\n",
    "                \n",
    "            if lr == 'l':\n",
    "                if node.left != None:\n",
    "                    recur(node.left,'l',1)\n",
    "                if node.right != None:\n",
    "                    recur(node.right,'r',len_+1)\n",
    "            \n",
    "            if lr == 'r':\n",
    "                if node.left != None:\n",
    "                    recur(node.left,'l',len_+1)\n",
    "                if node.right != None:\n",
    "                    recur(node.right,'r',1)\n",
    "        result = []\n",
    "        if root.left != None:\n",
    "            recur(root.left,'l',1)\n",
    "        if root.right != None:\n",
    "            recur(root.right,'r',1)\n",
    "        if result:\n",
    "            return max(result)\n",
    "        return 0"
   ]
  },
  {
   "cell_type": "markdown",
   "metadata": {},
   "source": [
    "該作法其實滿單純的，其時間複雜度為 O(N)，作法是我們從 root 開始往下走，且每到一個 node 就計算當前最大的 length 並且 append 至 result 中，最後再從 result 中取得最大的長度即為答案，但該作法的缺點是會使得空間複雜度太高，因此網路上有一個空間複雜度極低的做法如下: \n"
   ]
  },
  {
   "cell_type": "markdown",
   "metadata": {},
   "source": [
    "### Method 2 (33 ms wins 99.40%, 13.9 MB wins 99.59%)"
   ]
  },
  {
   "cell_type": "code",
   "execution_count": 80,
   "metadata": {},
   "outputs": [],
   "source": [
    "# Definition for a binary tree node.\n",
    "# class TreeNode:\n",
    "#     def __init__(self, val=0, left=None, right=None):\n",
    "#         self.val = val\n",
    "#         self.left = left\n",
    "#         self.right = right\n",
    "class Solution:\n",
    "    def longestZigZag(self, root: Optional[TreeNode]) -> int:\n",
    "        def dfs(root):\n",
    "            if not root:\n",
    "                return 0\n",
    "            max_len = 0\n",
    "            queue = deque()\n",
    "            if root.left:\n",
    "                queue.append((root.left, 'l', 1))\n",
    "            if root.right:\n",
    "                queue.append((root.right, 'r', 1))\n",
    "            while queue:\n",
    "                cur, sign, zigzag = queue.popleft()\n",
    "                max_len = max(max_len, zigzag)\n",
    "                if cur.left:\n",
    "                    if sign == 'l':\n",
    "                        queue.append((cur.left, 'l', 1))\n",
    "                    else:\n",
    "                        queue.append((cur.left, 'l', zigzag+1))\n",
    "                if cur.right:\n",
    "                    if sign == 'l':\n",
    "                        queue.append((cur.right, 'r', zigzag+1))\n",
    "                    else:\n",
    "                        queue.append((cur.right, 'r', 1))\n",
    "            return max_len\n",
    "        return dfs(root)\n",
    "                    "
   ]
  },
  {
   "cell_type": "code",
   "execution_count": 81,
   "metadata": {},
   "outputs": [
    {
     "data": {
      "text/plain": [
       "-5"
      ]
     },
     "execution_count": 81,
     "metadata": {},
     "output_type": "execute_result"
    }
   ],
   "source": [
    "sol = Solution()\n",
    "dividend = 15\n",
    "divisor = -3\n",
    "sol.divide(dividend,divisor)\n"
   ]
  },
  {
   "cell_type": "markdown",
   "metadata": {},
   "source": [
    "Method2 是我在 leetcode 上看到的一個滿特別的解法，其實概念是利用 range() 可以設定 sep 的概念，例如我們想要找 6/2 是多少，我們可以這樣想，我們從 0 開始到 6 逐步加二的話需要加幾次 = [0,2,4,6] 其長度為 4，因此我們只要把演算法設定為計算從 0 至 dividend-divisor+1 的長度，即為 quotient。"
   ]
  }
 ],
 "metadata": {
  "kernelspec": {
   "display_name": "Python 3",
   "language": "python",
   "name": "python3"
  },
  "language_info": {
   "codemirror_mode": {
    "name": "ipython",
    "version": 3
   },
   "file_extension": ".py",
   "mimetype": "text/x-python",
   "name": "python",
   "nbconvert_exporter": "python",
   "pygments_lexer": "ipython3",
   "version": "3.7.4"
  }
 },
 "nbformat": 4,
 "nbformat_minor": 2
}
