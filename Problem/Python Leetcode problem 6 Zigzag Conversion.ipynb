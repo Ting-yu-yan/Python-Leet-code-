{
 "cells": [
  {
   "cell_type": "markdown",
   "metadata": {},
   "source": [
    "# Python Leetcode challenge"
   ]
  },
  {
   "cell_type": "markdown",
   "metadata": {},
   "source": [
    "## 6. Zigzag Conversion (Medium) 20220205"
   ]
  },
  {
   "cell_type": "markdown",
   "metadata": {},
   "source": [
    "<p style=\"font-size:16px\">Description:</p>\n",
    "\n",
    "The string \"PAYPALISHIRING\" is written in a zigzag pattern on a given number of rows like this: (you may want to display this pattern in a fixed font for better legibility)\n",
    "\n",
    "For example:\n",
    "\n",
    "Input: s = \"PAYPALISHIRING\", numRows = 3\n",
    "\n",
    "Output: \"PAHNAPLSIIGYIR\"\n"
   ]
  },
  {
   "cell_type": "markdown",
   "metadata": {},
   "source": [
    "### Method 1 (1248 ms only win 5%)"
   ]
  },
  {
   "cell_type": "code",
   "execution_count": 49,
   "metadata": {},
   "outputs": [],
   "source": [
    "class Solution:\n",
    "    def convert(self, s: str, numRows: int):\n",
    "        result = []\n",
    "        template = list(range(numRows)) + sorted(list(range(1,numRows-1)),reverse=True)\n",
    "        n = len(s)/len(template)\n",
    "        if n <= 1 :\n",
    "            index = template[0:len(s)]\n",
    "        else:\n",
    "            index = (template * ((len(s)//len(template)) + 1))[0:len(s)]\n",
    "        for i in range(numRows):\n",
    "            for j,z in zip(s,index):\n",
    "                if z == i:\n",
    "                    result.append(j)\n",
    "        \n",
    "        \n",
    "        return \"\".join(result)\n",
    "        "
   ]
  },
  {
   "cell_type": "code",
   "execution_count": 51,
   "metadata": {},
   "outputs": [
    {
     "data": {
      "text/plain": [
       "'abbacc'"
      ]
     },
     "execution_count": 51,
     "metadata": {},
     "output_type": "execute_result"
    }
   ],
   "source": [
    "str1 = 'abcabc'\n",
    "s = Solution()\n",
    "s.convert(str1,3)"
   ]
  },
  {
   "cell_type": "markdown",
   "metadata": {},
   "source": [
    "以上的做法其實很直觀，透過觀察 Zigzac 的形狀後，我們先給予不同的 character index label 然後再將 index 重新排列，但這樣的做法其實會比較慢，一來是我們要先創建新的物件 index 再者是我們要透過雙層 for loop 逐一比對，因此在執行上會比較慢。"
   ]
  },
  {
   "cell_type": "markdown",
   "metadata": {},
   "source": [
    "### Method 2 (60 ms  win 85%)"
   ]
  },
  {
   "cell_type": "code",
   "execution_count": 67,
   "metadata": {},
   "outputs": [],
   "source": [
    "class Solution:\n",
    "    def convert(self, s, numRows):\n",
    "        if numRows == 1:\n",
    "            return s\n",
    "        step = 1\n",
    "        pos = 1\n",
    "        lines = {}\n",
    "        for c in s:\n",
    "            if pos not in lines:\n",
    "                lines[pos] = c\n",
    "            else:\n",
    "                lines[pos]+=c\n",
    "            pos+=step\n",
    "            if pos==1 or pos==numRows:\n",
    "                step*=-1\n",
    "                \n",
    "        return \"\".join(list(lines.values()))"
   ]
  },
  {
   "cell_type": "code",
   "execution_count": 68,
   "metadata": {},
   "outputs": [
    {
     "data": {
      "text/plain": [
       "'abbacc'"
      ]
     },
     "execution_count": 68,
     "metadata": {},
     "output_type": "execute_result"
    }
   ],
   "source": [
    "str1 = 'abcabc'\n",
    "s = Solution()\n",
    "s.convert(str1,3)"
   ]
  },
  {
   "cell_type": "markdown",
   "metadata": {},
   "source": [
    "以上的做法是我原本做法的 plus 版本，概念其實就是逐一掃過每個 character 並且標上 index ，值得學習的地方是，原作者利用 dict 的 key 跟 value 的概念，將 key 當作 index 並且逐一增加 value 的數值，例如 a -> ab -> abd ... ，藉此將不同的 row 所對應的 substring 透過 dict 的方式表現，最後我們只要將不同的 key 所對應的 value 全部 append 即可得到我們需要的答案。"
   ]
  }
 ],
 "metadata": {
  "kernelspec": {
   "display_name": "Python 3",
   "language": "python",
   "name": "python3"
  },
  "language_info": {
   "codemirror_mode": {
    "name": "ipython",
    "version": 3
   },
   "file_extension": ".py",
   "mimetype": "text/x-python",
   "name": "python",
   "nbconvert_exporter": "python",
   "pygments_lexer": "ipython3",
   "version": "3.7.4"
  }
 },
 "nbformat": 4,
 "nbformat_minor": 2
}
