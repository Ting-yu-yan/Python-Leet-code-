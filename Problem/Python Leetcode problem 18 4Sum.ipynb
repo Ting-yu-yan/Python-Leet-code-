{
 "cells": [
  {
   "cell_type": "markdown",
   "metadata": {},
   "source": [
    "# Python Leetcode challenge"
   ]
  },
  {
   "cell_type": "markdown",
   "metadata": {},
   "source": [
    "## 18. 4Sum (Medium) 20230305\n",
    "\n",
    "Given an array nums of n integers, return an array of all the unique quadruplets [nums[a], nums[b], nums[c], nums[d]] such that:\n",
    "\n",
    "0 <= a, b, c, d < n\n",
    "a, b, c, and d are distinct.\n",
    "nums[a] + nums[b] + nums[c] + nums[d] == target\n",
    "You may return the answer in any order."
   ]
  },
  {
   "cell_type": "markdown",
   "metadata": {},
   "source": [
    "### Method 1 (996 ms wins 47.55%, 13.9 MB wins 53.75%)"
   ]
  },
  {
   "cell_type": "code",
   "execution_count": 62,
   "metadata": {},
   "outputs": [],
   "source": [
    "class Solution:\n",
    "    def fourSum(self, nums, target):\n",
    "        res = []\n",
    "        length = len(nums)\n",
    "        if length<4:\n",
    "            return res\n",
    "        nums.sort()\n",
    "\n",
    "        for i in range(length-3):\n",
    "            if i>0 and nums[i] == nums[i-1]:\n",
    "                continue\n",
    "            for j in range(i+1,length-2):\n",
    "                if j > i+1 and nums[j] == nums[j-1]:\n",
    "                    continue\n",
    "                left = j+1\n",
    "                right = length-1\n",
    "                while(left<right):\n",
    "                    sum_tmp = nums[i] + nums[j] + nums[left] + nums[right]\n",
    "                    if sum_tmp == target:\n",
    "                        res.append([nums[i],nums[j],nums[left],nums[right]])\n",
    "                        left+=1\n",
    "                        right-=1\n",
    "                        while left < right and nums[left] == nums[left-1]:\n",
    "                            left+=1\n",
    "                        while left<right and nums[right] == nums[right+1]:\n",
    "                            right-=1\n",
    "                    if sum_tmp < target:\n",
    "                        left+=1\n",
    "                    if sum_tmp > target:\n",
    "                        right-=1\n",
    "        return res\n",
    "        "
   ]
  },
  {
   "cell_type": "code",
   "execution_count": 63,
   "metadata": {},
   "outputs": [
    {
     "name": "stdout",
     "output_type": "stream",
     "text": [
      "[[-3, -2, 2, 3], [-3, -1, 1, 3], [-3, 0, 0, 3], [-3, 0, 1, 2], [-2, -1, 0, 3], [-2, -1, 1, 2], [-2, 0, 0, 2], [-1, 0, 0, 1]]\n"
     ]
    }
   ],
   "source": [
    "nums = [-3,-2,-1,0,0,1,2,3]\n",
    "target = 0\n",
    "s = Solution()\n",
    "print(s.fourSum(nums,target))"
   ]
  },
  {
   "cell_type": "markdown",
   "metadata": {},
   "source": [
    "此題目的解題思維其實很單純，我們先將數列排序，並且先固定開頭前面兩個數，然後利用 pointer 的方式來找到我們的 target，然後每次都移動一個 index，因此該解法的時間複雜度為 O(n^3) 。"
   ]
  },
  {
   "cell_type": "markdown",
   "metadata": {},
   "source": [
    "### Method 2 (74 ms wins 98.96%, 13.9 MB wins 88.73%)"
   ]
  },
  {
   "cell_type": "code",
   "execution_count": 83,
   "metadata": {},
   "outputs": [],
   "source": [
    "class Solution:\n",
    "#     def fourSum(self, nums: List[int], target: int) -> List[List[int]]:\n",
    "#         # all_possible = list()\n",
    "#         # for i in range(len(nums)+1):\n",
    "#         #     all_possible+=list(itertools.combinations(nums, i))\n",
    "\n",
    "#         all_possible = list(itertools.combinations(nums, 4))\n",
    "        \n",
    "#         all_possible_length_four = [sorted(list(x)) for x in all_possible]\n",
    "#         #removing duplicates\n",
    "#         fresh = list()\n",
    "#         [fresh.append(x) for x in all_possible_length_four if x not in fresh]\n",
    "#         final_result = [final_list for final_list in fresh if sum(final_list)==target]\n",
    "#         return final_result\n",
    "\n",
    "    def fourSum(self, nums, target):\n",
    "        def findNsum(nums, target, N, result, results):\n",
    "            if len(nums) < N or N < 2 or target < nums[0]*N or target > nums[-1]*N:  # early termination\n",
    "                return\n",
    "            if N == 2: # two pointers solve sorted 2-sum problem\n",
    "                l,r = 0,len(nums)-1\n",
    "                while l < r:\n",
    "                    s = nums[l] + nums[r]\n",
    "                    if s == target:\n",
    "                        results.append(result + [nums[l], nums[r]])\n",
    "                        l += 1\n",
    "                        while l < r and nums[l] == nums[l-1]:\n",
    "                            l += 1\n",
    "                    elif s < target:\n",
    "                        l += 1\n",
    "                    else:\n",
    "                        r -= 1\n",
    "            else: # recursively reduce N\n",
    "                for i in range(len(nums)-N+1):\n",
    "                    if i == 0 or (i > 0 and nums[i-1] != nums[i]):\n",
    "                        findNsum(nums[i+1:], target-nums[i], N-1, result+[nums[i]], results)\n",
    "\n",
    "        results = []\n",
    "        findNsum(sorted(nums), target, 4, [], results)\n",
    "        return results"
   ]
  },
  {
   "cell_type": "code",
   "execution_count": 84,
   "metadata": {},
   "outputs": [
    {
     "name": "stdout",
     "output_type": "stream",
     "text": [
      "[[-3, -2, 2, 3], [-3, -1, 1, 3], [-3, 0, 0, 3], [-3, 0, 1, 2], [-2, -1, 0, 3], [-2, -1, 1, 2], [-2, 0, 0, 2], [-1, 0, 0, 1]]\n"
     ]
    }
   ],
   "source": [
    "nums = [-3,-2,-1,0,0,1,2,3]\n",
    "target = 0\n",
    "s = Solution()\n",
    "print(s.fourSum(nums,target))"
   ]
  },
  {
   "attachments": {},
   "cell_type": "markdown",
   "metadata": {},
   "source": [
    "Method2 比 Method1 還要快很多的主要原因是因為透過 recursion 的手法將一個複雜的分題拆解成眾多的子任務，並且降低子任務的複雜度，進而提高整體的運算速度，即使乍看之下依然是 O(n^3) ，但因為 Method2 利用了 # early termination 並且透過 recursion 降低了加法的使用次數，進而提升整體的運作效能，尤其是 # early termination 大大降低了程式的運算速度。"
   ]
  }
 ],
 "metadata": {
  "kernelspec": {
   "display_name": "Python 3",
   "language": "python",
   "name": "python3"
  },
  "language_info": {
   "codemirror_mode": {
    "name": "ipython",
    "version": 3
   },
   "file_extension": ".py",
   "mimetype": "text/x-python",
   "name": "python",
   "nbconvert_exporter": "python",
   "pygments_lexer": "ipython3",
   "version": "3.7.4"
  }
 },
 "nbformat": 4,
 "nbformat_minor": 2
}
