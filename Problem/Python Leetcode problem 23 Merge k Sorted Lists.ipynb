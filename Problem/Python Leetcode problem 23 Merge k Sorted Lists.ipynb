{
 "cells": [
  {
   "cell_type": "markdown",
   "metadata": {},
   "source": [
    "# Python Leetcode challenge"
   ]
  },
  {
   "cell_type": "markdown",
   "metadata": {},
   "source": [
    "## 23. Merge k Sorted Lists (Hard) 20230309\n",
    "\n",
    "You are given an array of k linked-lists lists, each linked-list is sorted in ascending order.\n",
    "\n",
    "Merge all the linked-lists into one sorted linked-list and return it."
   ]
  },
  {
   "cell_type": "markdown",
   "metadata": {},
   "source": [
    "### Method 1 (110 ms wins 60.97%, 17.6 MB wins 67.97%)"
   ]
  },
  {
   "cell_type": "code",
   "execution_count": 24,
   "metadata": {},
   "outputs": [],
   "source": [
    "# Definition for singly-linked list.\n",
    "# class ListNode:\n",
    "#     def __init__(self, val=0, next=None):\n",
    "#         self.val = val\n",
    "#         self.next = next\n",
    "import math\n",
    "class Solution:\n",
    "    def mergeKLists(self, lists):\n",
    "        def merge(left,right):\n",
    "            res = ListNode()\n",
    "            substitude = res\n",
    "\n",
    "            while(left and right):\n",
    "                if left.val >= right.val:\n",
    "                    substitude.next = right\n",
    "                    right = right.next\n",
    "                else:\n",
    "                    substitude.next = left\n",
    "                    left = left.next\n",
    "                substitude = substitude.next\n",
    "\n",
    "            if left:\n",
    "                substitude.next = left\n",
    "            else:\n",
    "                substitude.next = right\n",
    "\n",
    "            return res.next\n",
    "        \n",
    "        if len(lists) == 1:\n",
    "            return lists[0]\n",
    "        elif len(lists) == 0:\n",
    "            return \n",
    "        \n",
    "        middle = math.ceil(len(lists) / 2)\n",
    "        left = lists[0: middle]\n",
    "        right = lists[middle:]\n",
    "        \n",
    "        return merge(self.mergeKLists(left),self.mergeKLists(right))"
   ]
  },
  {
   "attachments": {
    "image.png": {
     "image/png": "[encoded data removed]"
    }
   },
   "cell_type": "markdown",
   "metadata": {},
   "source": [
    "我的解法其實就是直接將 merge sort 的概念直接用在該問題上，我們將 list 中的 element 一直分成兩塊，並且在逐一 merge 在一起。 唯一需要思考的地方在於 recursion 的寫法。\n",
    "![image.png](attachment:image.png)"
   ]
  },
  {
   "cell_type": "markdown",
   "metadata": {},
   "source": [
    "### Method 2 (100 ms wins 82.47%, 18.3 MB wins 32.97%)"
   ]
  },
  {
   "cell_type": "code",
   "execution_count": null,
   "metadata": {},
   "outputs": [],
   "source": [
    "class Solution:\n",
    "    def mergeKLists(self, lists: List[Optional[ListNode]]) -> Optional[ListNode]:\n",
    "        tmp = []\n",
    "        for curi in lists:\n",
    "            while curi:\n",
    "                tmp.append(curi.val)\n",
    "                curi = curi.next\n",
    "        tmp.sort()\n",
    "        head = ListNode()\n",
    "        curr = head\n",
    "        for i in range(len(tmp)):\n",
    "            curr.next = ListNode(val = tmp[i])\n",
    "            curr = curr.next\n",
    "        return head.next"
   ]
  },
  {
   "cell_type": "markdown",
   "metadata": {},
   "source": [
    "Method 2 雖然比較快，但我覺得方法有點投機，因為他的做法其實很單純，將所有的 linked list 值取出來並 append 在 tmp 中後，再 sorting，接著再創建一個新的 linked list，雖然結果相同，但卻失去了練習 linked list 排序的機會。"
   ]
  }
 ],
 "metadata": {
  "kernelspec": {
   "display_name": "Python 3",
   "language": "python",
   "name": "python3"
  },
  "language_info": {
   "codemirror_mode": {
    "name": "ipython",
    "version": 3
   },
   "file_extension": ".py",
   "mimetype": "text/x-python",
   "name": "python",
   "nbconvert_exporter": "python",
   "pygments_lexer": "ipython3",
   "version": "3.7.4"
  }
 },
 "nbformat": 4,
 "nbformat_minor": 2
}
