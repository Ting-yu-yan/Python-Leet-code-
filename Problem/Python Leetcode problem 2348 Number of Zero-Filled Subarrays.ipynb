{
 "cells": [
  {
   "cell_type": "markdown",
   "metadata": {},
   "source": [
    "# Python Leetcode challenge"
   ]
  },
  {
   "cell_type": "markdown",
   "metadata": {},
   "source": [
    "## 2348. Number of Zero-Filled Subarrays (Medium) 20230321\n",
    "\n",
    "Given an integer array nums, return the number of subarrays filled with 0.\n",
    "\n",
    "A subarray is a contiguous non-empty sequence of elements within an array."
   ]
  },
  {
   "cell_type": "markdown",
   "metadata": {},
   "source": [
    "### Method 1 (1165 ms wins 21.55%,  24.6 MB wins 78.9%)"
   ]
  },
  {
   "cell_type": "code",
   "execution_count": 61,
   "metadata": {},
   "outputs": [],
   "source": [
    "class Solution:\n",
    "    def zeroFilledSubarray(self, nums):\n",
    "        l = r = 0\n",
    "        n = 0\n",
    "        while(r < len(nums)):\n",
    "            if nums[l] != 0 and nums[r] !=0:\n",
    "                l+=1\n",
    "                r+=1\n",
    "            elif nums[l] == 0 and nums[r] == 0:\n",
    "                r+=1\n",
    "            elif nums[l] == 0 and nums[r] != 0:\n",
    "                n += (r-l+1)*(r-l)/2\n",
    "                l = r\n",
    "        if l < len(nums):\n",
    "            if nums[l] == 0:\n",
    "                n += (r-l+1)*(r-l)/2\n",
    "        return int(n)"
   ]
  },
  {
   "cell_type": "code",
   "execution_count": 62,
   "metadata": {},
   "outputs": [
    {
     "data": {
      "text/plain": [
       "3"
      ]
     },
     "execution_count": 62,
     "metadata": {},
     "output_type": "execute_result"
    }
   ],
   "source": [
    "sol = Solution()\n",
    "nums = [1,0,0,4]\n",
    "sol.zeroFilledSubarray(nums)\n"
   ]
  },
  {
   "cell_type": "markdown",
   "metadata": {},
   "source": [
    "我們利用公式解結合 while loop 來做該題，做法其實很簡單，對於一個長度為 n 的數列其所有可能的 subset 數量為 n(n+1)/2，因此我們只要計算有幾組 0 的 contiguous sequence 即可得到答案。 然而這個做法不夠簡潔，以下我將提供網路上的一個做法，該作法利用的概念跟我們的解題思維一樣，都是透過公式解的方式，但其使用的更精妙，例如我們想知道 0000 有多少個 subset，其實就等於 1+2+3+4，因此我們可以利用這個概念來改寫我們的程式碼為以下，且其時間複雜度只有 O(n) ! 其計算時間比我的方法足足快了 200ms"
   ]
  },
  {
   "cell_type": "markdown",
   "metadata": {},
   "source": [
    "### Method 2 (1040 ms wins 97.53%, 24.6 MB wins 78.9%)"
   ]
  },
  {
   "cell_type": "code",
   "execution_count": 64,
   "metadata": {},
   "outputs": [],
   "source": [
    "class Solution:\n",
    "    def zeroFilledSubarray(self, nums) -> int:\n",
    "        ans, count = 0, 0\n",
    "        for num in nums:\n",
    "            if num:\n",
    "                count = 0\n",
    "            else:\n",
    "                count += 1\n",
    "            ans += count\n",
    "        \n",
    "        return ans"
   ]
  },
  {
   "cell_type": "code",
   "execution_count": 65,
   "metadata": {},
   "outputs": [
    {
     "data": {
      "text/plain": [
       "3"
      ]
     },
     "execution_count": 65,
     "metadata": {},
     "output_type": "execute_result"
    }
   ],
   "source": [
    "sol = Solution()\n",
    "nums = [1,0,0,4]\n",
    "sol.zeroFilledSubarray(nums)\n"
   ]
  },
  {
   "cell_type": "markdown",
   "metadata": {},
   "source": [
    "該作法的演算法核心是，我們只在 list 中走過每個 element 一次，每次都會去檢查該 element 是否是 0，如果其為 0 則 count +1，ans + count，關鍵在於 ans + count，因為當我們這麼設定時，如果下一個 element 依然是 0 則我們的 count 將會變成 2，而不會跳回為 0 ，此時 ans 會再度加上 count 也就是變成 1 + 2，而 1+2"
   ]
  }
 ],
 "metadata": {
  "kernelspec": {
   "display_name": "Python 3",
   "language": "python",
   "name": "python3"
  },
  "language_info": {
   "codemirror_mode": {
    "name": "ipython",
    "version": 3
   },
   "file_extension": ".py",
   "mimetype": "text/x-python",
   "name": "python",
   "nbconvert_exporter": "python",
   "pygments_lexer": "ipython3",
   "version": "3.7.4"
  }
 },
 "nbformat": 4,
 "nbformat_minor": 2
}
