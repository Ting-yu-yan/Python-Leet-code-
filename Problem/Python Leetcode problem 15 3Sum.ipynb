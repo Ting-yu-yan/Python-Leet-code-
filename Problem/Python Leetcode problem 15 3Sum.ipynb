{
 "cells": [
  {
   "cell_type": "markdown",
   "metadata": {},
   "source": [
    "# Python Leetcode challenge"
   ]
  },
  {
   "cell_type": "markdown",
   "metadata": {},
   "source": [
    "## 15. 3Sum (Easy) 20230304"
   ]
  },
  {
   "cell_type": "markdown",
   "metadata": {},
   "source": [
    "Given an integer array nums, return all the triplets [nums[i], nums[j], nums[k]] such that i != j, i != k, and j != k, and nums[i] + nums[j] + nums[k] == 0.\n",
    "\n",
    "Notice that the solution set must not contain duplicate triplets.\n",
    "\n",
    "Input: nums = [-1,0,1,2,-1,-4]\n",
    "Output: [[-1,-1,2],[-1,0,1]]\n",
    "Explanation: \n",
    "nums[0] + nums[1] + nums[2] = (-1) + 0 + 1 = 0.\n",
    "nums[1] + nums[2] + nums[4] = 0 + 1 + (-1) = 0.\n",
    "nums[0] + nums[3] + nums[4] = (-1) + 2 + (-1) = 0.\n",
    "The distinct triplets are [-1,0,1] and [-1,-1,2].\n",
    "Notice that the order of the output and the order of the triplets does not matter."
   ]
  },
  {
   "cell_type": "markdown",
   "metadata": {},
   "source": [
    "### Method 1 (9129 ms wins 5%, 21.9 MB wins 5.91%)"
   ]
  },
  {
   "cell_type": "code",
   "execution_count": 88,
   "metadata": {},
   "outputs": [],
   "source": [
    "class Solution:\n",
    "    def threeSum(self, nums):\n",
    "        result_arr = []\n",
    "        # check 000\n",
    "        check_000 = 0\n",
    "        for i in nums:\n",
    "            if i == 0:\n",
    "                check_000+=1\n",
    "        if check_000 >=3:\n",
    "            result_arr.append([0,0,0])\n",
    "        \n",
    "        # check pos,neg,0\n",
    "        if 0 in nums:\n",
    "            neg_list = {}\n",
    "            pos_list = {}\n",
    "            for num in nums:\n",
    "                if num > 0:\n",
    "                    pos_list[num] = 1\n",
    "                if num < 0:\n",
    "                    neg_list[num] = 1\n",
    "                    \n",
    "            for i in neg_list:\n",
    "                if pos_list.get(abs(i),0) != 0:\n",
    "                    result_arr.append([0,int(i),-int(i)])\n",
    "                    \n",
    "        # check neg,neg,pos and pos,pos,neg\n",
    "        neg_list = []\n",
    "        pos_list = []\n",
    "        neg_dict = {}\n",
    "        pos_dict = {}\n",
    "        \n",
    "        for num in nums:\n",
    "            if num > 0 :\n",
    "                pos_list.append(num)\n",
    "                pos_dict[num] = 1\n",
    "            if num < 0 :\n",
    "                neg_list.append(num)\n",
    "                neg_dict[num] = 1\n",
    "        if(neg_list and pos_list):\n",
    "            tmp_result = []\n",
    "            max_pos = max(pos_list)\n",
    "            min_neg = min(neg_list)\n",
    "            for i in range(len(neg_list)):\n",
    "                if abs(neg_list[i]) > max_pos:\n",
    "                    continue\n",
    "                for j in range(i+1,len(neg_list)):\n",
    "                    if pos_dict.get(abs(neg_list[i]+neg_list[j]),0) != 0:\n",
    "                        if {neg_list[i],neg_list[j],abs(neg_list[i]+neg_list[j])} not in tmp_result:\n",
    "                            tmp_result.append({neg_list[i],neg_list[j],abs(neg_list[i]+neg_list[j])})\n",
    "                            result_arr.append([neg_list[i],neg_list[j],abs(neg_list[i]+neg_list[j])])\n",
    "                        \n",
    "            for i in range(len(pos_list)):\n",
    "                if -pos_list[i] < min_neg:\n",
    "                    continue\n",
    "                for j in range(i+1,len(pos_list)):\n",
    "                    if neg_dict.get(-(pos_list[i]+pos_list[j]),0) != 0:\n",
    "                        if {pos_list[i],pos_list[j],-(pos_list[i]+pos_list[j])} not in tmp_result:\n",
    "                            tmp_result.append({pos_list[i],pos_list[j],-(pos_list[i]+pos_list[j])})\n",
    "                            result_arr.append([pos_list[i],pos_list[j],-(pos_list[i]+pos_list[j])])\n",
    "                        \n",
    "        return result_arr"
   ]
  },
  {
   "cell_type": "code",
   "execution_count": 93,
   "metadata": {},
   "outputs": [
    {
     "name": "stdout",
     "output_type": "stream",
     "text": [
      "[[0, -1, 1], [0, -2, 2], [-1, -2, 3]]\n"
     ]
    }
   ],
   "source": [
    "strs = [0,1,-1,2,-2,3]\n",
    "s = Solution()\n",
    "print(s.threeSum(strs))"
   ]
  },
  {
   "cell_type": "markdown",
   "metadata": {},
   "source": [
    "要讓三個數字相加為 0 一共有以下幾總組合: [0,0,0], [正,負,0], [正,正,負], [負,負,正]，因此我們只要針對個別不同的情形找到所有可能的 set 即可，因此我的想法滿單純的，就是針對不同的 case 加以探討並且將所有可能的組合相加，但這樣的做法將使得時間複雜度非常高。"
   ]
  },
  {
   "cell_type": "markdown",
   "metadata": {},
   "source": [
    "### Method 2 (291 ms wins 99.97%, 18.6 MB wins 17.35%)"
   ]
  },
  {
   "cell_type": "code",
   "execution_count": 108,
   "metadata": {},
   "outputs": [
    {
     "data": {
      "text/plain": [
       "[1, 4, 6, 8, 12, 15, 20]"
      ]
     },
     "execution_count": 108,
     "metadata": {},
     "output_type": "execute_result"
    }
   ],
   "source": [
    "a = [1,4,6,8,12,15,20]\n",
    "a"
   ]
  },
  {
   "cell_type": "code",
   "execution_count": 109,
   "metadata": {},
   "outputs": [],
   "source": [
    "import bisect\n",
    "class Solution:\n",
    "    def threeSum(self, nums):\n",
    "        if len(nums) < 3:\n",
    "            return []\n",
    "        trips = []\n",
    "        met = set(nums)\n",
    "        num_cntr = {}\n",
    "        for num in nums:\n",
    "            if num_cntr.get(num) == num:\n",
    "                num_cntr[num] += 1\n",
    "            else:\n",
    "                num_cntr[num] = 1\n",
    "        # it sorts all the keys and return a list!?\n",
    "        ordered_nums = sorted(num_cntr)\n",
    "        # if the smallest one is positive\n",
    "        # or the largest one is negative\n",
    "        # it won't work!\n",
    "        if ordered_nums[0] > 0 or ordered_nums[-1] < 0:\n",
    "            return trips\n",
    "        \n",
    "        for val, cnt in num_cntr.items():\n",
    "            if cnt >= 2:\n",
    "                if val != 0:\n",
    "                    target = -2 * val\n",
    "                    if target in num_cntr:\n",
    "                        trips.append([val, val, target])\n",
    "                elif cnt >= 3:\n",
    "                    trips.append([0, 0, 0])\n",
    "\n",
    "        for i in range(len(ordered_nums) - 1):\n",
    "            if ordered_nums[i] > 0:\n",
    "                break\n",
    "            two_sum = -ordered_nums[i]\n",
    "            _min, _max = two_sum - ordered_nums[-1], two_sum / 2\n",
    "            l = bisect.bisect_left(ordered_nums, _min, i + 1)\n",
    "            r = bisect.bisect_left(ordered_nums, _max, l)\n",
    "            \n",
    "            for j in ordered_nums[l:r]:\n",
    "                if two_sum - j in met:\n",
    "                    trips.append([ordered_nums[i], j, two_sum - j])\n",
    "        \n",
    "        return trips"
   ]
  },
  {
   "cell_type": "code",
   "execution_count": 110,
   "metadata": {},
   "outputs": [
    {
     "name": "stdout",
     "output_type": "stream",
     "text": [
      "[-2, -1, 0, 1, 2, 3]\n",
      "[[-2, -1, 3], [-2, 0, 2], [-1, 0, 1]]\n"
     ]
    }
   ],
   "source": [
    "strs = [0,1,-1,2,-2,3]\n",
    "s = Solution()\n",
    "print(s.threeSum(strs))"
   ]
  }
 ],
 "metadata": {
  "kernelspec": {
   "display_name": "Python 3",
   "language": "python",
   "name": "python3"
  },
  "language_info": {
   "codemirror_mode": {
    "name": "ipython",
    "version": 3
   },
   "file_extension": ".py",
   "mimetype": "text/x-python",
   "name": "python",
   "nbconvert_exporter": "python",
   "pygments_lexer": "ipython3",
   "version": "3.7.4"
  }
 },
 "nbformat": 4,
 "nbformat_minor": 2
}
