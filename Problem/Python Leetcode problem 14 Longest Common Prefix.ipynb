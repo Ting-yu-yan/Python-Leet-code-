{
 "cells": [
  {
   "cell_type": "markdown",
   "metadata": {},
   "source": [
    "# Python Leetcode challenge"
   ]
  },
  {
   "cell_type": "markdown",
   "metadata": {},
   "source": [
    "## 14. Longest Common Prefix (Easy) 20230228"
   ]
  },
  {
   "cell_type": "markdown",
   "metadata": {},
   "source": [
    "Write a function to find the longest common prefix string amongst an array of strings.\n",
    "\n",
    "If there is no common prefix, return an empty string \"\"."
   ]
  },
  {
   "cell_type": "markdown",
   "metadata": {},
   "source": [
    "### Method 1 (32 ms wins 84.72%, 14 MB wins 6.91%)"
   ]
  },
  {
   "cell_type": "code",
   "execution_count": 28,
   "metadata": {},
   "outputs": [],
   "source": [
    "class Solution:\n",
    "    def longestCommonPrefix(self, strs) -> str:\n",
    "        length_list = [len(i) for i in strs]\n",
    "        index = length_list.index(min(length_list))\n",
    "        max_prefix = strs[index]\n",
    "        length = len(strs[index])\n",
    "        for i in range(len(strs)):\n",
    "            while(length>0):\n",
    "                if strs[i][0:length] == max_prefix[0:length]:\n",
    "                    max_prefix = max_prefix[0:length]\n",
    "                    break\n",
    "                else:\n",
    "                    length-=1\n",
    "            if length == 0:\n",
    "                return \"\"\n",
    "        return max_prefix"
   ]
  },
  {
   "cell_type": "code",
   "execution_count": 32,
   "metadata": {},
   "outputs": [
    {
     "data": {
      "text/plain": [
       "'do'"
      ]
     },
     "execution_count": 32,
     "metadata": {},
     "output_type": "execute_result"
    }
   ],
   "source": [
    "strs = [\"dog\",\"dog\",\"doog\"] \n",
    "s = Solution()\n",
    "s.longestCommonPrefix(strs)"
   ]
  },
  {
   "cell_type": "markdown",
   "metadata": {},
   "source": [
    "這題是要找出所有字串中共同最大的 prefix，而我的解題思維很簡單，我先假設第一個字串為最大的 prefix，接著再比較第二個字串是否等於最大的 prefix，如果沒有的話就把最大的 prefix 剔除最後一個字符當作是最大的 prefix，接著重複以上的動作一值修正最大的 prefix 直到找到最大的 prfix = \"\"，或是比對過所有的 element 後依然存在最大的 prefix，則回傳 prefix。 以上作法有一個可以優化的地方在於我們不一定要假設第一個字串為最大的 prefix，而是可以找出整個 list 中最短的字串當作是 prefix，因為 prefix 是所有字串的共同部分，因此最大一定就等於最小字串的長度。"
   ]
  },
  {
   "cell_type": "markdown",
   "metadata": {},
   "source": [
    "### Method 2 (26 ms wins 97.84%, 13.9 MB wins 80.95%)"
   ]
  },
  {
   "cell_type": "code",
   "execution_count": 35,
   "metadata": {},
   "outputs": [],
   "source": [
    "class Solution:\n",
    "    def longestCommonPrefix(self, strs) -> str:\n",
    "        prefix = min(strs, key=len)\n",
    "        words = \"not_all\"\n",
    "        while words != \"all\":\n",
    "            words = \"all\"\n",
    "            for elem in strs:\n",
    "                if prefix != elem[:len(prefix)]:\n",
    "                    prefix = prefix[:-1]\n",
    "                    words = \"not_all\"\n",
    "            \n",
    "        return prefix"
   ]
  },
  {
   "cell_type": "code",
   "execution_count": 36,
   "metadata": {},
   "outputs": [
    {
     "data": {
      "text/plain": [
       "'do'"
      ]
     },
     "execution_count": 36,
     "metadata": {},
     "output_type": "execute_result"
    }
   ],
   "source": [
    "strs = [\"dog\",\"dog\",\"doog\"] \n",
    "s = Solution()\n",
    "s.longestCommonPrefix(strs)"
   ]
  },
  {
   "cell_type": "markdown",
   "metadata": {},
   "source": [
    "我找了 leetcode 上提交解答中最快的答案，跟我自己的做法其實大同小異，但有兩點值得學習的地方，第一，他直接用了 mix(strs,key=len) 的函數值接回傳最小的字串當作是 prefix，雖然我的作法也是要找出最小的字串，但直接使用 min(strs,key) 的做法會更有效率。第二，該作法比較所有 element 的方式是直接相 run 過每個 element，然後如果不等於目前的 prefix 則將 prefix 的長度扣 1，並且直接比較下一個 element，該作法看似比較慢，但其實只要 list 的長度是大於最小的字串，則運氣好的話只需要 run 個 loop 兩圈即可，但我還是覺得這個最法不是很漂亮，原因在於當運氣不好時有可能會需要 run 很多圈，例如當 strs = [dooooog,sasffsdgsd,dooooog,dooooog],如果使用方法二，你會發現在 run 第一圈的時候我們的 prefix 會扣一，從 dooooog -> dooooo 然後再 run 第二圈，因為 element 1,3,4 都相同，因此我們每次 run 整個 list 的時候都只會扣除 prefix 一次，因此我們會需要 run 7 次，每次都要 run 4 個 elements，因此需要比較 28 次，但使用方法一我們只需要比要 1(第一個 element) + 7 (dooooog) = 8 次便會回傳 \"\"，因此我會保留方法二的部分進行改寫: "
   ]
  },
  {
   "cell_type": "markdown",
   "metadata": {},
   "source": [
    "### Method 3 (24 ms wins 98.82%, 13.9 MB wins 40.26%)"
   ]
  },
  {
   "cell_type": "code",
   "execution_count": 39,
   "metadata": {},
   "outputs": [],
   "source": [
    "class Solution:\n",
    "    def longestCommonPrefix(self, strs) -> str:\n",
    "        prefix = min(strs, key=len)\n",
    "        for i in range(len(strs)):\n",
    "            while(len(prefix)>0):\n",
    "                if strs[i][:len(prefix)] == prefix:\n",
    "                    break\n",
    "                else:\n",
    "                    prefix = prefix[:-1]\n",
    "            if len(prefix) == 0:\n",
    "                return \"\"\n",
    "        return prefix"
   ]
  },
  {
   "cell_type": "code",
   "execution_count": 41,
   "metadata": {},
   "outputs": [
    {
     "data": {
      "text/plain": [
       "'d'"
      ]
     },
     "execution_count": 41,
     "metadata": {},
     "output_type": "execute_result"
    }
   ],
   "source": [
    "strs = [\"dog\",\"dg\",\"doog\"] \n",
    "s = Solution()\n",
    "s.longestCommonPrefix(strs)"
   ]
  }
 ],
 "metadata": {
  "kernelspec": {
   "display_name": "Python 3",
   "language": "python",
   "name": "python3"
  },
  "language_info": {
   "codemirror_mode": {
    "name": "ipython",
    "version": 3
   },
   "file_extension": ".py",
   "mimetype": "text/x-python",
   "name": "python",
   "nbconvert_exporter": "python",
   "pygments_lexer": "ipython3",
   "version": "3.7.4"
  }
 },
 "nbformat": 4,
 "nbformat_minor": 2
}
