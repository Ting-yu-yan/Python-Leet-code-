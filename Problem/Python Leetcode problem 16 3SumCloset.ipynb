{
 "cells": [
  {
   "cell_type": "markdown",
   "metadata": {},
   "source": [
    "# Python Leetcode challenge"
   ]
  },
  {
   "cell_type": "markdown",
   "metadata": {},
   "source": [
    "## 16. 3SumCloset (Medium) 20230305\n",
    "\n",
    "Given an integer array nums of length n and an integer target, find three integers in nums such that the sum is closest to target.\n",
    "\n",
    "Return the sum of the three integers.\n",
    "\n",
    "You may assume that each input would have exactly one solution."
   ]
  },
  {
   "cell_type": "markdown",
   "metadata": {},
   "source": [
    "### Method 1 (978 ms wins 57.26%, 13.9 MB wins 91.25%)"
   ]
  },
  {
   "cell_type": "code",
   "execution_count": 36,
   "metadata": {},
   "outputs": [],
   "source": [
    "class Solution:\n",
    "    def threeSumClosest(self, nums, target) :\n",
    "        ordered_list = sorted(nums)\n",
    "        closet = ordered_list[0] + ordered_list[1] + ordered_list[-1]\n",
    "        for i in range(len(ordered_list)-2):\n",
    "            left_pointer = i+1\n",
    "            right_pointer = len(ordered_list)-1\n",
    "            current = sum(ordered_list[i:i+3])\n",
    "            if current > closet:\n",
    "                if abs(current-target) < abs(closet-target):\n",
    "                    closet = current\n",
    "            current = sum(ordered_list[-3:])\n",
    "            if current < closet:\n",
    "                if abs(current-target) < abs(closet-target):\n",
    "                    closet = current\n",
    "            while(left_pointer!=right_pointer):\n",
    "                sum_tmp = ordered_list[i] + ordered_list[left_pointer] + ordered_list[right_pointer]\n",
    "                if sum_tmp == target:\n",
    "                    return sum_tmp\n",
    "                elif sum_tmp > target:\n",
    "                    right_pointer-=1\n",
    "                else:\n",
    "                    left_pointer+=1\n",
    "                    \n",
    "                if abs(sum_tmp - target) < abs(closet - target):\n",
    "                    closet = sum_tmp\n",
    "        return closet"
   ]
  },
  {
   "cell_type": "code",
   "execution_count": 37,
   "metadata": {},
   "outputs": [
    {
     "name": "stdout",
     "output_type": "stream",
     "text": [
      "6\n"
     ]
    }
   ],
   "source": [
    "strs = [0,1,-1,2,-2,3]\n",
    "target = 10\n",
    "s = Solution()\n",
    "print(s.threeSumClosest(strs,target))"
   ]
  },
  {
   "cell_type": "markdown",
   "metadata": {},
   "source": [
    "跟上一提不同的是，我們要找出跟 target 最接近的組合，因此一個很直觀的想法是，我們每次都固定一個 element ，並且讓另外兩個 element 利用 pointer 的手法來前進 / 後退，並且每次都比較是否筆當前的最佳解還要更接近 target ，只計算迴圈次數的話，我們的時間複雜度為 nlog(n) (排序) + n! 每次都固定一個 element。"
   ]
  },
  {
   "cell_type": "markdown",
   "metadata": {},
   "source": [
    "### Method 2 (70 ms wins 99.25%, 14.1 MB wins 17.65%)"
   ]
  },
  {
   "cell_type": "code",
   "execution_count": 27,
   "metadata": {},
   "outputs": [],
   "source": [
    "from collections import defaultdict\n",
    "\n",
    "class Solution:\n",
    "    def threeSumClosest(self, nums, target):\n",
    "        nums.sort()\n",
    "        return self.KSumClosest(nums, 3, target)\n",
    "\n",
    "    def KSumClosest(self, nums, k, target):\n",
    "        N = len(nums)\n",
    "        if N == k:\n",
    "            return sum(nums[:k])\n",
    "\n",
    "        # target too small\n",
    "        current = sum(nums[:k])\n",
    "        if current >= target:\n",
    "            return current\n",
    "\n",
    "        # target too big\n",
    "        current = sum(nums[-k:])\n",
    "        if current <= target:\n",
    "            return current\n",
    "        \n",
    "        if k == 1:\n",
    "            return min([(x, abs(target - x)) for x in nums], key = lambda x: x[1])[0]\n",
    "\n",
    "        closest = sum(nums[:k])\n",
    "        for i, x in enumerate(nums[:-k+1]):\n",
    "            if i > 0 and x == nums[i-1]:\n",
    "                continue\n",
    "            current = self.KSumClosest(nums[i+1:], k-1, target - x) + x\n",
    "            if abs(target - current) < abs(target - closest):\n",
    "                if current == target:\n",
    "                    return target\n",
    "                else:\n",
    "                    closest = current\n",
    "\n",
    "        return closest"
   ]
  },
  {
   "cell_type": "code",
   "execution_count": 28,
   "metadata": {},
   "outputs": [
    {
     "name": "stdout",
     "output_type": "stream",
     "text": [
      "6\n"
     ]
    }
   ],
   "source": [
    "strs = [0,1,-1,2,-2,3]\n",
    "target = 10\n",
    "s = Solution()\n",
    "print(s.threeSumClosest(strs,target))"
   ]
  },
  {
   "cell_type": "markdown",
   "metadata": {},
   "source": [
    "這個做法的速度非常快，雖然看起來需要 run 過幾乎所有可能的組合，但因為這種寫法利用 iteration 的方式把整個複雜的問題拆解成個別的簡單小任務並且再 return 回來，因此速度非常快，非常值得學習。"
   ]
  }
 ],
 "metadata": {
  "kernelspec": {
   "display_name": "Python 3",
   "language": "python",
   "name": "python3"
  },
  "language_info": {
   "codemirror_mode": {
    "name": "ipython",
    "version": 3
   },
   "file_extension": ".py",
   "mimetype": "text/x-python",
   "name": "python",
   "nbconvert_exporter": "python",
   "pygments_lexer": "ipython3",
   "version": "3.7.4"
  }
 },
 "nbformat": 4,
 "nbformat_minor": 2
}
