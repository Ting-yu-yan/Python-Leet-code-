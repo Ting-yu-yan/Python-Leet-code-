{
 "cells": [
  {
   "cell_type": "markdown",
   "metadata": {},
   "source": [
    "# Python Leetcode challenge"
   ]
  },
  {
   "cell_type": "markdown",
   "metadata": {},
   "source": [
    "## 1472. Design Browser History (Medium) 20230318\n",
    "\n",
    "You have a browser of one tab where you start on the homepage and you can visit another url, get back in the history number of steps or move forward in the history number of steps.\n",
    "\n",
    "Implement the BrowserHistory class:\n",
    "\n",
    "BrowserHistory(string homepage) Initializes the object with the homepage of the browser.\n",
    "void visit(string url) Visits url from the current page. It clears up all the forward history.\n",
    "string back(int steps) Move steps back in history. If you can only return x steps in the history and steps > x, you will return only x steps. Return the current url after moving back in history at most steps.\n",
    "string forward(int steps) Move steps forward in history. If you can only forward x steps in the history and steps > x, you will forward only x steps. Return the current url after forwarding in history at most steps."
   ]
  },
  {
   "cell_type": "markdown",
   "metadata": {},
   "source": [
    "### Method 1 (216 ms wins 88.5%, 16.5 MB wins 85.92%)"
   ]
  },
  {
   "cell_type": "code",
   "execution_count": 17,
   "metadata": {},
   "outputs": [],
   "source": [
    "class BrowserHistory:\n",
    "\n",
    "    def __init__(self, homepage: str):\n",
    "        self.browser_list = [homepage]\n",
    "        self.cur = 0\n",
    "        self.length = 1\n",
    "\n",
    "    def visit(self, url: str) -> None:\n",
    "        self.cur = self.cur+1\n",
    "        self.browser_list = self.browser_list[:self.cur]\n",
    "        self.browser_list.append(url)\n",
    "        self.length = self.cur+1\n",
    "        \n",
    "    def back(self, steps: int) -> str:\n",
    "        if self.cur - steps > 0:\n",
    "            self.cur = self.cur - steps\n",
    "        else:\n",
    "            self.cur = 0\n",
    "        return self.browser_list[self.cur]\n",
    "\n",
    "    def forward(self, steps: int) -> str:\n",
    "        if self.cur + steps < self.length:\n",
    "            self.cur = self.cur+steps\n",
    "        else:\n",
    "            self.cur = self.length -1\n",
    "        return self.browser_list[self.cur]\n",
    "        \n",
    "\n",
    "\n",
    "# Your BrowserHistory object will be instantiated and called as such:\n",
    "# obj = BrowserHistory(homepage)\n",
    "# obj.visit(url)\n",
    "# param_2 = obj.back(steps)\n",
    "# param_3 = obj.forward(steps)"
   ]
  },
  {
   "cell_type": "code",
   "execution_count": 26,
   "metadata": {},
   "outputs": [
    {
     "name": "stdout",
     "output_type": "stream",
     "text": [
      "facebook.com\n",
      "google.com\n",
      "facebook.com\n",
      "linkedin.com\n",
      "google.com\n",
      "leetcode.com\n"
     ]
    }
   ],
   "source": [
    "browserHistory = BrowserHistory(\"leetcode.com\");\n",
    "browserHistory.visit(\"google.com\");      \n",
    "browserHistory.visit(\"facebook.com\");     \n",
    "browserHistory.visit(\"youtube.com\");     \n",
    "print(browserHistory.back(1));                \n",
    "print(browserHistory.back(1));                 \n",
    "print(browserHistory.forward(1));                \n",
    "browserHistory.visit(\"linkedin.com\");    \n",
    "print(browserHistory.forward(2));                \n",
    "print(browserHistory.back(2));                   \n",
    "print(browserHistory.back(7));                   "
   ]
  },
  {
   "cell_type": "markdown",
   "metadata": {},
   "source": [
    "該題其時就根據題目要求創建一個 Object 而已，唯一需要注意的是，因為我們想記錄 position 資訊，因此我採用 list 而非 dict，再者為了避免在運算的過程中使用太過複雜的函數 (時間複雜度較高)，我採用 append 而非 insert 並且利用 position 跟 length 的概念來幫助我降低時間複雜度。"
   ]
  }
 ],
 "metadata": {
  "kernelspec": {
   "display_name": "Python 3",
   "language": "python",
   "name": "python3"
  },
  "language_info": {
   "codemirror_mode": {
    "name": "ipython",
    "version": 3
   },
   "file_extension": ".py",
   "mimetype": "text/x-python",
   "name": "python",
   "nbconvert_exporter": "python",
   "pygments_lexer": "ipython3",
   "version": "3.7.4"
  }
 },
 "nbformat": 4,
 "nbformat_minor": 2
}
