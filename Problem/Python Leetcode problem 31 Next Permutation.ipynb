{
 "cells": [
  {
   "cell_type": "markdown",
   "metadata": {},
   "source": [
    "# Python Leetcode challenge"
   ]
  },
  {
   "cell_type": "markdown",
   "metadata": {},
   "source": [
    "## 31. Next Permutation (Medium) 20230705\n",
    "\n",
    "A permutation of an array of integers is an arrangement of its members into a sequence or linear order.\n",
    "\n",
    "For example, for arr = [1,2,3], the following are all the permutations of arr: [1,2,3], [1,3,2], [2, 1, 3], [2, 3, 1], [3,1,2], [3,2,1].\n",
    "The next permutation of an array of integers is the next lexicographically greater permutation of its integer. More formally, if all the permutations of the array are sorted in one container according to their lexicographical order, then the next permutation of that array is the permutation that follows it in the sorted container. If such arrangement is not possible, the array must be rearranged as the lowest possible order (i.e., sorted in ascending order).\n",
    "\n",
    "For example, the next permutation of arr = [1,2,3] is [1,3,2].\n",
    "Similarly, the next permutation of arr = [2,3,1] is [3,1,2].\n",
    "While the next permutation of arr = [3,2,1] is [1,2,3] because [3,2,1] does not have a lexicographical larger rearrangement.\n",
    "Given an array of integers nums, find the next permutation of nums.\n",
    "\n",
    "The replacement must be in place and use only constant extra memory."
   ]
  },
  {
   "cell_type": "markdown",
   "metadata": {},
   "source": [
    "### Method 1 (73 ms wins 73.84%, 16.2 MB wins 97.43%)"
   ]
  },
  {
   "cell_type": "code",
   "execution_count": 132,
   "metadata": {},
   "outputs": [],
   "source": [
    "class Solution:\n",
    "    def __init__(self,nums):\n",
    "        self.nums = nums\n",
    "        \n",
    "    def nextPermutation(self) -> None:\n",
    "        a = None\n",
    "        b = None \n",
    "        \n",
    "        for i in range(len(self.nums)-2,-1,-1):\n",
    "            if self.nums[i] < self.nums[i+1]:\n",
    "                a = i\n",
    "                break\n",
    "        # consider there is no situation that the right is larger than the left\n",
    "        if a is None:\n",
    "            self.nums = sorted(self.nums)\n",
    "            return self.nums\n",
    "        \n",
    "        for i in range(len(self.nums)-1,-1,-1):\n",
    "            if self.nums[i] > self.nums[a]:\n",
    "                b = self.nums[i]\n",
    "                self.nums[i] = self.nums[a]\n",
    "                self.nums[a] = b\n",
    "                self.nums = self.nums[0:a+1] + sorted(self.nums[a+1:])\n",
    "                return self.nums\n",
    "                "
   ]
  },
  {
   "cell_type": "code",
   "execution_count": 156,
   "metadata": {},
   "outputs": [
    {
     "data": {
      "text/plain": [
       "[2, 1, 3]"
      ]
     },
     "execution_count": 156,
     "metadata": {},
     "output_type": "execute_result"
    }
   ],
   "source": [
    "sol = Solution(nums = [1,3,2])\n",
    "sol.nextPermutation()\n"
   ]
  },
  {
   "cell_type": "code",
   "execution_count": 151,
   "metadata": {},
   "outputs": [
    {
     "data": {
      "text/plain": [
       "[1, 3, 2]"
      ]
     },
     "execution_count": 151,
     "metadata": {},
     "output_type": "execute_result"
    }
   ],
   "source": [
    "sol.nextPermutation()"
   ]
  },
  {
   "cell_type": "markdown",
   "metadata": {},
   "source": [
    "這一題的解法其實滿單純的，小時候有玩過楓之谷的話對這題應該有些既視感，我們的目標是要將給定的數列排成比原數列還要大的數列，且沒有其他數列小於排列後的數列。以上我使用的做法是典型的字典序演算法。從數列的右邊開始，找出第一個位置符合該位置小於右邊的數字令其為 A ，接著再從右邊開始找出第一個大於 A 的位置令其為 B，接著將 A B 互換，並且將 A 之後的數列排序即為答案。時間複雜度為 O(2N) + O(NlongN)\n"
   ]
  }
 ],
 "metadata": {
  "kernelspec": {
   "display_name": "Python 3",
   "language": "python",
   "name": "python3"
  },
  "language_info": {
   "codemirror_mode": {
    "name": "ipython",
    "version": 3
   },
   "file_extension": ".py",
   "mimetype": "text/x-python",
   "name": "python",
   "nbconvert_exporter": "python",
   "pygments_lexer": "ipython3",
   "version": "3.7.4"
  }
 },
 "nbformat": 4,
 "nbformat_minor": 2
}
