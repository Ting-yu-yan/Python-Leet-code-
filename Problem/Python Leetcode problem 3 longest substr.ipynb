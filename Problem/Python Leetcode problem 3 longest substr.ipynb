{
 "cells": [
  {
   "cell_type": "markdown",
   "metadata": {},
   "source": [
    "# Python Leetcode challenge"
   ]
  },
  {
   "cell_type": "markdown",
   "metadata": {},
   "source": [
    "## 3. Longest Substring Without Repeating Characters"
   ]
  },
  {
   "cell_type": "markdown",
   "metadata": {},
   "source": [
    "<p style=\"font-size:16px\">Description:</p>\n",
    "\n",
    "Given a string s, find the length of the longest substring without repeating characters.\n",
    "\n",
    "For example:\n",
    "\n",
    "Input: s = \"abcabcbb\"\n",
    "\n",
    "Output: 3\n",
    "\n",
    "Explanation: The answer is \"abc\", with the length of 3."
   ]
  },
  {
   "cell_type": "markdown",
   "metadata": {},
   "source": [
    "### Method 1 (runtime = 1586 ms)"
   ]
  },
  {
   "cell_type": "code",
   "execution_count": 51,
   "metadata": {},
   "outputs": [
    {
     "data": {
      "text/plain": [
       "6"
      ]
     },
     "execution_count": 51,
     "metadata": {},
     "output_type": "execute_result"
    }
   ],
   "source": [
    "class Solution1(object):\n",
    "    def lengthOfLongestSubstring(self, s):\n",
    "        \"\"\"\n",
    "        :type s: str\n",
    "        :rtype: int\n",
    "        \"\"\"\n",
    "        substr = \"\"\n",
    "        \n",
    "        for i in range(len(s)):\n",
    "            tmp_str = \"\"\n",
    "            for j in s[i:]:\n",
    "                if j not in tmp_str:\n",
    "                    tmp_str += j\n",
    "                else:\n",
    "                    if len(substr)<len(tmp_str):\n",
    "                        substr = tmp_str\n",
    "                    break\n",
    "                if len(substr)<len(tmp_str):\n",
    "                    substr = tmp_str\n",
    "        return(len(substr))\n",
    "test1 = Solution1()\n",
    "test1.lengthOfLongestSubstring(s = 'aabbwerty')"
   ]
  },
  {
   "cell_type": "markdown",
   "metadata": {},
   "source": [
    "第一種方式的解題思維其實很簡單，就是我全都要。意思就是我們先從字辭最左邊的字母開，並且找到沒有重複字母且長度最長的 substring，接著再從左邊第二個字母開始找到沒有重複字母且長度最長的 substring，依序找到從不同位置開始的最常沒有重複字母的 substring，但有一個方式還能改善上面的演算法，就是我們還可以先比較剩餘字母長度跟目前收集到最長的 substring 長度還設定跳出條件。"
   ]
  },
  {
   "cell_type": "code",
   "execution_count": 56,
   "metadata": {},
   "outputs": [
    {
     "data": {
      "text/plain": [
       "6"
      ]
     },
     "execution_count": 56,
     "metadata": {},
     "output_type": "execute_result"
    }
   ],
   "source": [
    "class Solution1_modified(object):\n",
    "    def lengthOfLongestSubstring(self, s):\n",
    "        \"\"\"\n",
    "        :type s: str\n",
    "        :rtype: int\n",
    "        \"\"\"\n",
    "        substr = \"\"\n",
    "        \n",
    "        for i in range(len(s)):\n",
    "            tmp_str = \"\"\n",
    "            if len(substr)< len(s[i:]):\n",
    "                for j in s[i:]:\n",
    "                    if j not in tmp_str:\n",
    "                        tmp_str += j\n",
    "                    else:\n",
    "                        if len(substr)<len(tmp_str):\n",
    "                            substr = tmp_str\n",
    "                        break\n",
    "                    if len(substr)<len(tmp_str):\n",
    "                        substr = tmp_str\n",
    "        return(len(substr))\n",
    "test1_1 = Solution1_modified()\n",
    "test1_1.lengthOfLongestSubstring(s = 'aabbwerty')"
   ]
  },
  {
   "cell_type": "markdown",
   "metadata": {},
   "source": [
    "神奇的是原先我本來以為會降低運算時間，但沒想到運作時間卻變長的，最大的因素應該是在於我又加了一條 if 條件所致"
   ]
  },
  {
   "cell_type": "markdown",
   "metadata": {},
   "source": [
    "### Method 2 (runtime = 80 ms)"
   ]
  },
  {
   "cell_type": "code",
   "execution_count": 100,
   "metadata": {},
   "outputs": [
    {
     "data": {
      "text/plain": [
       "2"
      ]
     },
     "execution_count": 100,
     "metadata": {},
     "output_type": "execute_result"
    }
   ],
   "source": [
    "class Solution2(object):\n",
    "    def lengthOfLongestSubstring(self, s) :\n",
    "        chars = [0] * 128\n",
    "\n",
    "        left = right = 0\n",
    "\n",
    "        res = 0\n",
    "        while right < len(s) :\n",
    "            r = s[right]\n",
    "            chars[ord(r)] += 1\n",
    "\n",
    "            while chars[ord(r)] > 1:\n",
    "                l = s[left]\n",
    "                chars[ord(l)] -= 1\n",
    "                left += 1\n",
    "\n",
    "            res = max(res, right - left + 1)\n",
    "\n",
    "            right += 1\n",
    "        return res\n",
    "test2 = Solution2()\n",
    "test2.lengthOfLongestSubstring(s = 'aabbwerty')"
   ]
  },
  {
   "cell_type": "markdown",
   "metadata": {},
   "source": [
    "以上的演算法概念其實很簡單，就是我們透過 lef, right index 來控制運算時間，首先都是從 (0,0) 開始，並且將我們 scan 到的字母記錄起來，並且往右移動一格 (0,1) 接著在紀錄一次掃到的 scan ，倘若我們用以紀錄的 List 中有重複的字母，則 left 往右移動一格，並且將該該字母在紀錄表上扣 1。"
   ]
  }
 ],
 "metadata": {
  "kernelspec": {
   "display_name": "Python 3",
   "language": "python",
   "name": "python3"
  },
  "language_info": {
   "codemirror_mode": {
    "name": "ipython",
    "version": 3
   },
   "file_extension": ".py",
   "mimetype": "text/x-python",
   "name": "python",
   "nbconvert_exporter": "python",
   "pygments_lexer": "ipython3",
   "version": "3.7.4"
  }
 },
 "nbformat": 4,
 "nbformat_minor": 2
}
