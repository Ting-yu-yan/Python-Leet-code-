{
 "cells": [
  {
   "cell_type": "markdown",
   "metadata": {},
   "source": [
    "# Python Leetcode challenge"
   ]
  },
  {
   "cell_type": "markdown",
   "metadata": {},
   "source": [
    "## 208. Implement Trie (Prefix Tree) (Medium) 20230317\n",
    "\n",
    "A trie (pronounced as \"try\") or prefix tree is a tree data structure used to efficiently store and retrieve keys in a dataset of strings. There are various applications of this data structure, such as autocomplete and spellchecker.\n",
    "\n",
    "Implement the Trie class:\n",
    "\n",
    "Trie() Initializes the trie object.\n",
    "void insert(String word) Inserts the string word into the trie.\n",
    "boolean search(String word) Returns true if the string word is in the trie (i.e., was inserted before), and false otherwise.\n",
    "boolean startsWith(String prefix) Returns true if there is a previously inserted string word that has the prefix prefix, and false otherwise."
   ]
  },
  {
   "cell_type": "markdown",
   "metadata": {},
   "source": [
    "### Method 1 (745 ms wins 5.1%, 20.8 MB wins 98%)"
   ]
  },
  {
   "cell_type": "code",
   "execution_count": 4,
   "metadata": {},
   "outputs": [],
   "source": [
    "class Trie:\n",
    "\n",
    "    def __init__(self):\n",
    "        self.container = {}\n",
    "        \n",
    "    def insert(self, word: str):\n",
    "        self.container[word] = word\n",
    "        \n",
    "\n",
    "    def search(self, word: str):\n",
    "        res = self.container.get(word,False)\n",
    "        if res:\n",
    "            return True\n",
    "        return res\n",
    "    \n",
    "    def startsWith(self, prefix: str) -> bool:\n",
    "        length = len(prefix)\n",
    "        for i in self.container:\n",
    "            if i[:length] == prefix:\n",
    "                return True\n",
    "        else:\n",
    "            return False\n",
    "\n",
    "\n",
    "# Your Trie object will be instantiated and called as such:\n",
    "# obj = Trie()\n",
    "# obj.insert(word)\n",
    "# param_2 = obj.search(word)\n",
    "# param_3 = obj.startsWith(prefix)"
   ]
  },
  {
   "cell_type": "code",
   "execution_count": 6,
   "metadata": {},
   "outputs": [
    {
     "name": "stdout",
     "output_type": "stream",
     "text": [
      "True\n",
      "False\n",
      "True\n",
      "True\n"
     ]
    }
   ],
   "source": [
    "trie = Trie();\n",
    "trie.insert(\"apple\");\n",
    "print(trie.search(\"apple\"));   \n",
    "print(trie.search(\"app\"));     \n",
    "print(trie.startsWith(\"app\")); \n",
    "trie.insert(\"app\");\n",
    "print(trie.search(\"app\"));    "
   ]
  },
  {
   "cell_type": "markdown",
   "metadata": {},
   "source": [
    "我的解題思維其實很簡單，只是根據題目的要求來建立一個 Trie() class，而我選擇使用的容器是 dict，原因是因為在 search element 時其 big O 為 O(n) ，但最後出來的結果是後百分之五的排名，可見我的方法其時間複雜度很高，我直覺想到的是 startsWith function 使用了 for loop 的關係。\n",
    "後來我想到可以一樣透過容器的方式來存取一個字的所有 prefix，並且一樣透過 hash table 來判別是否有該 prefix，該作法確實大大提升了效率，但還是不夠好，只從後百分之五上升至百分之 28，修改的程式碼如下:\n",
    "\n",
    "最後來看看 leetcode 上高手都怎麼做這道問題 (Method 3)"
   ]
  },
  {
   "cell_type": "markdown",
   "metadata": {},
   "source": [
    "### Method 2 (211 ms wins 28.69%, 27.7 MB wins 86.48%)"
   ]
  },
  {
   "cell_type": "code",
   "execution_count": 31,
   "metadata": {},
   "outputs": [],
   "source": [
    "class Trie:\n",
    "\n",
    "    def __init__(self):\n",
    "        self.container = {}\n",
    "        self.prefix_d = {}\n",
    "        \n",
    "    def insert(self, word: str):\n",
    "        self.container[word] = word\n",
    "        prev = \"\"\n",
    "        for i in word:\n",
    "            self.prefix_d[prev+i] = prev+i\n",
    "            prev = self.prefix_d[prev+i]\n",
    "            \n",
    "\n",
    "    def search(self, word: str):\n",
    "        res = self.container.get(word,False)\n",
    "        if res:\n",
    "            return True\n",
    "        return res\n",
    "    \n",
    "    def startsWith(self, prefix: str) -> bool:\n",
    "        res = self.prefix_d.get(prefix,False)\n",
    "        if res:\n",
    "            return True\n",
    "        return res\n",
    "\n",
    "\n",
    "# Your Trie object will be instantiated and called as such:\n",
    "# obj = Trie()\n",
    "# obj.insert(word)\n",
    "# param_2 = obj.search(word)\n",
    "# param_3 = obj.startsWith(prefix)"
   ]
  },
  {
   "cell_type": "code",
   "execution_count": 33,
   "metadata": {
    "scrolled": true
   },
   "outputs": [
    {
     "name": "stdout",
     "output_type": "stream",
     "text": [
      "True\n",
      "False\n",
      "True\n",
      "True\n"
     ]
    }
   ],
   "source": [
    "trie = Trie();\n",
    "trie.insert(\"apple\");\n",
    "print(trie.search(\"apple\"));   \n",
    "print(trie.search(\"app\"));     \n",
    "print(trie.startsWith(\"app\")); \n",
    "trie.insert(\"app\");\n",
    "print(trie.search(\"app\")); "
   ]
  },
  {
   "cell_type": "markdown",
   "metadata": {},
   "source": [
    "### Method 3 (116 ms wins 98.54%, 27.5 MB wins 92.85%)"
   ]
  },
  {
   "cell_type": "code",
   "execution_count": 34,
   "metadata": {},
   "outputs": [],
   "source": [
    "class Trie:\n",
    "\n",
    "    def __init__(self):\n",
    "        self.root={}\n",
    "        \n",
    "\n",
    "    def insert(self, word: str) -> None:\n",
    "\n",
    "        cur=self.root\n",
    "\n",
    "        for letter in word:\n",
    "            if letter not in cur:\n",
    "                cur[letter]={}\n",
    "            cur=cur[letter]\n",
    "\n",
    "        cur['*']=''\n",
    "\n",
    "\n",
    "    def search(self, word: str) -> bool:\n",
    "\n",
    "        cur=self.root\n",
    "        for letter in word:\n",
    "            if letter not in cur:\n",
    "                return False\n",
    "            cur=cur[letter]\n",
    "\n",
    "        return '*' in cur\n",
    "        \n",
    "\n",
    "    def startsWith(self, prefix: str) -> bool:\n",
    "\n",
    "        cur=self.root\n",
    "        for letter in prefix:\n",
    "            if letter not in cur:\n",
    "                return False\n",
    "            cur=cur[letter]\n",
    "\n",
    "        return True\n",
    "        \n",
    "\n",
    "\n",
    "# Your Trie object will be instantiated and called as such:\n",
    "# obj = Trie()\n",
    "# obj.insert(word)\n",
    "# param_2 = obj.search(word)\n",
    "# param_3 = obj.startsWith(prefix)"
   ]
  },
  {
   "cell_type": "code",
   "execution_count": 35,
   "metadata": {},
   "outputs": [
    {
     "data": {
      "text/plain": [
       "{'a': {'p': {'p': {'l': {'e': {'*': ''}}}}}}"
      ]
     },
     "execution_count": 35,
     "metadata": {},
     "output_type": "execute_result"
    }
   ],
   "source": [
    "trie = Trie();\n",
    "trie.insert(\"apple\");\n",
    "trie.root"
   ]
  },
  {
   "cell_type": "markdown",
   "metadata": {},
   "source": [
    "看完高手的做法後真是自嘆不如= =，看完心裡只有幹X娘能想到這個做法是鬼吧! 我原本的做法需要花很多時間去囊括所有的 prefix，因為我是用一個 \"字\" 為單位，但作者的作法是以一個 \"字母\" 為單位，並且厲害的是利用巢狀 dict 的方式來貯存資料，其好處在於，我們在搜尋是否有對應的字或是 prefix 時，我們只要逐層往下找即可，例如我們想找 app 這個 prefix，我們先在第一層找到 a，因為 a 對應的 value 也是一個 dictionary 因此我們在往下找 p，如此一來便可以判別 app 是否為該 trie 的 prefix，另外一個好處是，另外一個好處是我們每次要 search 的dict 會變得很短，而非像我原本的做法每次都要搬出整個 dict 。\n",
    "\n",
    "而要判別單字的方式也是用相同的概念，唯一不同的是我們回傳的是 * in cur 其原因在於我們可能在 trie 中貯存的是 player 但我們想檢驗是否有 play 這個單字，如果利用剛剛 prefix 的判別方式，則會回傳 True，但我們希望其回傳 false，因此我們在貯存單字的時候，最後都必須補上 *:\"\" 如此一來，我們才能夠知道 play 到底是否是存在 trie 中的單字，還是說只是一個 prefix 而已。反正這個做法非常厲害。最後我不看其程式碼來自己寫一遍: "
   ]
  },
  {
   "cell_type": "code",
   "execution_count": 40,
   "metadata": {},
   "outputs": [],
   "source": [
    "class Trie:\n",
    "\n",
    "    def __init__(self):\n",
    "        self.root={}\n",
    "        \n",
    "\n",
    "    def insert(self, word: str) -> None:\n",
    "        cur = self.root\n",
    "        for l in word:\n",
    "            if l not in cur:\n",
    "                cur[l] = {}\n",
    "            cur = cur[l]\n",
    "        cur['*'] = \"\"\n",
    "\n",
    "\n",
    "\n",
    "    def search(self, word: str) -> bool:\n",
    "        cur = self.root\n",
    "        for l in word:\n",
    "            if l not in cur:\n",
    "                return False\n",
    "            cur = cur[l]\n",
    "        return \"*\" in cur\n",
    "        \n",
    "\n",
    "    def startsWith(self, prefix: str) -> bool:\n",
    "        cur = self.root\n",
    "        for l in prefix:\n",
    "            if l not in cur:\n",
    "                return False\n",
    "            cur = cur[l]\n",
    "        return True"
   ]
  },
  {
   "cell_type": "code",
   "execution_count": 41,
   "metadata": {},
   "outputs": [
    {
     "name": "stdout",
     "output_type": "stream",
     "text": [
      "True\n",
      "False\n",
      "True\n",
      "True\n"
     ]
    }
   ],
   "source": [
    "trie = Trie();\n",
    "trie.insert(\"apple\");\n",
    "print(trie.search(\"apple\"));   \n",
    "print(trie.search(\"app\"));     \n",
    "print(trie.startsWith(\"app\")); \n",
    "trie.insert(\"app\");\n",
    "print(trie.search(\"app\")); "
   ]
  }
 ],
 "metadata": {
  "kernelspec": {
   "display_name": "Python 3",
   "language": "python",
   "name": "python3"
  },
  "language_info": {
   "codemirror_mode": {
    "name": "ipython",
    "version": 3
   },
   "file_extension": ".py",
   "mimetype": "text/x-python",
   "name": "python",
   "nbconvert_exporter": "python",
   "pygments_lexer": "ipython3",
   "version": "3.7.4"
  }
 },
 "nbformat": 4,
 "nbformat_minor": 2
}
