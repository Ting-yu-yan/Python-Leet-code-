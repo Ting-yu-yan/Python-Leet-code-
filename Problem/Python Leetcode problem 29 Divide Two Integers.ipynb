{
 "cells": [
  {
   "cell_type": "markdown",
   "metadata": {},
   "source": [
    "# Python Leetcode challenge"
   ]
  },
  {
   "cell_type": "markdown",
   "metadata": {},
   "source": [
    "## 29. Divide Two Integers (Medium) 20230320\n",
    "\n",
    "Given two integers dividend and divisor, divide two integers without using multiplication, division, and mod operator.\n",
    "\n",
    "The integer division should truncate toward zero, which means losing its fractional part. For example, 8.345 would be truncated to 8, and -2.7335 would be truncated to -2.\n",
    "\n",
    "Return the quotient after dividing dividend by divisor.\n",
    "\n",
    "Note: Assume we are dealing with an environment that could only store integers within the 32-bit signed integer range: [−231, 231 − 1]. For this problem, if the quotient is strictly greater than 231 - 1, then return 231 - 1, and if the quotient is strictly less than -231, then return -231."
   ]
  },
  {
   "cell_type": "markdown",
   "metadata": {},
   "source": [
    "### Method 1 (30 ms wins 88.22%, 13.9 MB wins 61.32%)"
   ]
  },
  {
   "cell_type": "code",
   "execution_count": 66,
   "metadata": {},
   "outputs": [],
   "source": [
    "class Solution:\n",
    "    def divide(self, dividend, divisor):\n",
    "        if(dividend == divisor):\n",
    "            return 1\n",
    "        isPositive = (dividend<0) == (divisor<0);\n",
    "        a,b = abs(dividend), abs(divisor)\n",
    "        res = 0\n",
    "        while a >= b:\n",
    "            q = 0\n",
    "            while(a > (b<<(q+1))):\n",
    "                q+=1\n",
    "            res += (1<<q);  \n",
    "            a = a - (b<<q);  \n",
    "        if(res >= (1<<31) and isPositive):\n",
    "            return (1<<31) - 1\n",
    "        return res if isPositive else -res"
   ]
  },
  {
   "cell_type": "code",
   "execution_count": 70,
   "metadata": {},
   "outputs": [
    {
     "data": {
      "text/plain": [
       "-5"
      ]
     },
     "execution_count": 70,
     "metadata": {},
     "output_type": "execute_result"
    }
   ],
   "source": [
    "sol = Solution()\n",
    "dividend = 15\n",
    "divisor = -3\n",
    "sol.divide(dividend,divisor)\n"
   ]
  },
  {
   "cell_type": "markdown",
   "metadata": {},
   "source": [
    "其實這題的解法是我參考網路上的做法，其概念為利用任何的數字都可以轉成二進制的概念來處理該問題，事實上雖然我們無法直接使用乘法跟除法，但我們可以利用進位的概念來設計演算法，例如 5<<2 就等同於 5*2^2,因為任何數字都可以表示成二進制，因此我們可以利用該事實來設計一個巢狀 while loop 的演算法，用以幫助我們逐步拆解 quotient 是由哪些 2 的次方向所組成。\n"
   ]
  },
  {
   "cell_type": "markdown",
   "metadata": {},
   "source": [
    "### Method 2 (33 ms wins 73.53%, 13.9 MB wins 61.32%)"
   ]
  },
  {
   "cell_type": "code",
   "execution_count": null,
   "metadata": {},
   "outputs": [],
   "source": [
    "class Solution:\n",
    "    def divide(self, dividend: int, divisor: int) -> int:\n",
    "        sign = -1 if (dividend < 0 and divisor > 0) or (dividend > 0 and divisor < 0) else 1\n",
    "        dividend, divisor = abs(dividend), abs(divisor)\n",
    "        # quotient = 0\n",
    "        # while divisor <= dividend:\n",
    "        #     quotient += 1\n",
    "        #     dividend -= divisor\n",
    "        quotient = len(range(0, dividend-divisor+1, divisor))\n",
    "        quotient *= sign\n",
    "        return min(quotient, 2**31-1) if quotient > 0 else max(quotient, -(2**31))"
   ]
  },
  {
   "cell_type": "markdown",
   "metadata": {},
   "source": [
    "Method2 是我在 leetcode 上看到的一個滿特別的解法，其實概念是利用 range() 可以設定 sep 的概念，例如我們想要找 6/2 是多少，我們可以這樣想，我們從 0 開始到 6 逐步加二的話需要加幾次 = [0,2,4,6] 其長度為 4，因此我們只要把演算法設定為計算從 0 至 dividend-divisor+1 的長度，即為 quotient。"
   ]
  }
 ],
 "metadata": {
  "kernelspec": {
   "display_name": "Python 3",
   "language": "python",
   "name": "python3"
  },
  "language_info": {
   "codemirror_mode": {
    "name": "ipython",
    "version": 3
   },
   "file_extension": ".py",
   "mimetype": "text/x-python",
   "name": "python",
   "nbconvert_exporter": "python",
   "pygments_lexer": "ipython3",
   "version": "3.7.4"
  }
 },
 "nbformat": 4,
 "nbformat_minor": 2
}
