{
 "cells": [
  {
   "cell_type": "markdown",
   "metadata": {},
   "source": [
    "# Python Leetcode challenge"
   ]
  },
  {
   "cell_type": "markdown",
   "metadata": {},
   "source": [
    "## 106. Construct Binary Tree from Inorder and Postorder Traversal (Medium) 20230316\n",
    "\n",
    "Given two integer arrays inorder and postorder where inorder is the inorder traversal of a binary tree and postorder is the postorder traversal of the same tree, construct and return the binary tree."
   ]
  },
  {
   "cell_type": "markdown",
   "metadata": {},
   "source": [
    "### Method 1 (138 ms wins 57.34%, 53.4 MB wins 46.99%)"
   ]
  },
  {
   "cell_type": "code",
   "execution_count": 14,
   "metadata": {},
   "outputs": [],
   "source": [
    "class Solution():\n",
    "    def buildTree(self, inorder, postorder):\n",
    "        \"\"\"\n",
    "        :type inorder: List[int]\n",
    "        :type postorder: List[int]\n",
    "        :rtype: TreeNode\n",
    "        \"\"\"\n",
    "        # Base case\n",
    "        if not inorder:\n",
    "            return None\n",
    "        \n",
    "        root_node = postorder.pop()\n",
    "        root = TreeNode(root_node)\n",
    "        \n",
    "        root_index = inorder.index(root_node)\n",
    "        \n",
    "        root.right = self.buildTree(inorder[root_index+1:],postorder)\n",
    "        root.left = self.buildTree(inorder[:root_index],postorder)\n",
    "        \n",
    "        return root"
   ]
  },
  {
   "cell_type": "markdown",
   "metadata": {},
   "source": [
    "要解這道題目必須要了解何謂 inorder 跟 postorder，對 postorder 最重要的概念就是其最後一個 element 為 root node，且順序為中右左，而對 inorder 而言，最重要的概念便是，找到其 root node 後便可以將 inorder 分成左右兩個分支，我們便可以利用兩個特性，透過 recursive 將 binary tree 建構起來。"
   ]
  },
  {
   "cell_type": "markdown",
   "metadata": {},
   "source": [
    "### Method 2 (33 ms wins 100%, 18.7 MB wins 95.50%)"
   ]
  },
  {
   "cell_type": "code",
   "execution_count": null,
   "metadata": {},
   "outputs": [],
   "source": [
    "class Solution:\n",
    "    def buildTree(self, inorder: List[int], postorder: List[int]) -> Optional[TreeNode]:\n",
    "        def build(postorder,inorder,ist,ien,d):\n",
    "            if ist>ien or len(postorder)==0:\n",
    "                return None\n",
    "            ele = postorder.pop()\n",
    "            root = TreeNode(ele)\n",
    "            idx = d[ele]\n",
    "            root.right = build(postorder,inorder,idx+1,ien,d)\n",
    "            root.left = build(postorder,inorder,ist,idx-1,d)\n",
    "            \n",
    "            return root\n",
    "\n",
    "\n",
    "        d,n = {},len(postorder)\n",
    "        for i in range(len(inorder)):\n",
    "            d[inorder[i]] = i\n",
    "        root = build(postorder,inorder,0,n-1,d)\n",
    "        return root"
   ]
  },
  {
   "cell_type": "markdown",
   "metadata": {},
   "source": [
    "該解答來自 Leetcode 上的網友分享，該解題的技巧其實滿單純的，跟我們的想法其實是一樣的，但其利用 hash table 的方式來做加速，建立一個 dictionary 來讓每次在 inorder 中 search root 的 index 時可以更加快速，其效果非常顯著，足足降了 100 ms 的運算速度。 我們再想得更仔細一些，該解題技巧除了利用 hash table 之外，還利用了 ist 跟 ien 的 pointer 技巧，使用該技巧的目的是，我們每次都需要找出在 inorder 中對應的 root 位置，並且 split 成左右兩塊接著在對左右兩塊進行 recursion ，而每一次要切分 inorder 時都必須要找出對應的 root 節點，因此每次的運算複雜度為 O(N)，而作者使用 ist ien 的 pointer 技巧是考量到每次切分完兩塊後，各自陣列的 index 又會改變，因此我們沒辦法用一開始建造好的 dictionary 來找出切分後的陣列中特定 root 對應的位置，因為 index 在每次的切分後都會改變，因此需要考量切分後 index 改變的問題。 而作者的解決方式就是利用 poniter 且每次都輸入整個 inorder 而非切割後的 inorder 來考量這個問題。 因此我們可以加入 Hash table 的想法進而改良我們的演算法，並且試著處理 index 在每次切分後都會改變的問題。"
   ]
  },
  {
   "cell_type": "code",
   "execution_count": 1,
   "metadata": {},
   "outputs": [
    {
     "data": {
      "text/plain": [
       "[]"
      ]
     },
     "execution_count": 1,
     "metadata": {},
     "output_type": "execute_result"
    }
   ],
   "source": [
    "[1,2,3][:0]"
   ]
  },
  {
   "cell_type": "code",
   "execution_count": null,
   "metadata": {},
   "outputs": [],
   "source": [
    "class Solution():\n",
    "    def buildTree(self, inorder, postorder):\n",
    "        \"\"\"\n",
    "        :type inorder: List[int]\n",
    "        :type postorder: List[int]\n",
    "        :rtype: TreeNode\n",
    "        \"\"\"\n",
    "        def helper(inorder,posterder,idx,d):\n",
    "            \n",
    "            if not inorder:\n",
    "                return None\n",
    "        \n",
    "            root_node = postorder.pop()\n",
    "            root = TreeNode(root_node)\n",
    "        \n",
    "            root_index = d[root_node]\n",
    "            cal_idx = root_index - idx\n",
    "            \n",
    "            if inorder:\n",
    "                tmp = d[inorder[0]]\n",
    "            else:\n",
    "                tmp = 0\n",
    "            root.right = helper(inorder[cal_idx+1:],postorder,root_index+1,d)\n",
    "            root.left = helper(inorder[:cal_idx],postorder,tmp,d)\n",
    "            return root\n",
    "        \n",
    "        d,n = {},len(postorder)\n",
    "        for i in range(n):\n",
    "            d[inorder[i]] = i\n",
    "        root = helper(postorder,inorder,0,d)\n",
    "        return root"
   ]
  },
  {
   "cell_type": "code",
   "execution_count": 6,
   "metadata": {},
   "outputs": [
    {
     "data": {
      "text/plain": [
       "[1]"
      ]
     },
     "execution_count": 6,
     "metadata": {},
     "output_type": "execute_result"
    }
   ],
   "source": [
    "[1,2,3][:1]"
   ]
  }
 ],
 "metadata": {
  "kernelspec": {
   "display_name": "Python 3",
   "language": "python",
   "name": "python3"
  },
  "language_info": {
   "codemirror_mode": {
    "name": "ipython",
    "version": 3
   },
   "file_extension": ".py",
   "mimetype": "text/x-python",
   "name": "python",
   "nbconvert_exporter": "python",
   "pygments_lexer": "ipython3",
   "version": "3.7.4"
  }
 },
 "nbformat": 4,
 "nbformat_minor": 2
}
